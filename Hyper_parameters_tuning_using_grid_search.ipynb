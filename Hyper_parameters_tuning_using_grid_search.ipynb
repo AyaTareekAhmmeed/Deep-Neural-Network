{
  "nbformat": 4,
  "nbformat_minor": 0,
  "metadata": {
    "colab": {
      "provenance": [],
      "authorship_tag": "ABX9TyM41UxazU5Gm7h5Qz5sY+mE",
      "include_colab_link": true
    },
    "kernelspec": {
      "name": "python3",
      "display_name": "Python 3"
    },
    "language_info": {
      "name": "python"
    },
    "accelerator": "GPU",
    "gpuClass": "standard"
  },
  "cells": [
    {
      "cell_type": "markdown",
      "metadata": {
        "id": "view-in-github",
        "colab_type": "text"
      },
      "source": [
        "<a href=\"https://colab.research.google.com/github/AyaTareekAhmmeed/Deep-Neural-Network/blob/main/Hyper_parameters_tuning_using_grid_search.ipynb\" target=\"_parent\"><img src=\"https://colab.research.google.com/assets/colab-badge.svg\" alt=\"Open In Colab\"/></a>"
      ]
    },
    {
      "cell_type": "code",
      "execution_count": 1,
      "metadata": {
        "id": "FdzRYayiGhTq"
      },
      "outputs": [],
      "source": [
        "import numpy\n",
        "from sklearn.model_selection import GridSearchCV\n",
        "from keras.models import Sequential \n",
        "from keras.layers import Dense\n",
        "from keras.wrappers.scikit_learn import KerasClassifier"
      ]
    },
    {
      "cell_type": "code",
      "source": [
        "# Function to create model, required for KerasClassifier\n",
        "def create_model():\n",
        "  # create model\n",
        "  model = Sequential()\n",
        "  model.add(Dense(12, input_dim=8, activation='relu'))\n",
        "  model.add(Dense(1, activation='sigmoid'))\n",
        "  # Compile model\n",
        "  model.compile(loss='binary_crossentropy', optimizer='adam', metrics=['accuracy'])\n",
        "  return model\n",
        "\n",
        "# fix random seed for reproducibility\n",
        "seed = 7\n",
        "numpy.random.seed(seed)\n",
        "# load dataset\n",
        "dataset = numpy.loadtxt(\"/content/pima-indians-diabetes.data.csv\" , delimiter=',')\n",
        "\n",
        "# split into input (X) and output (Y) variables\n",
        "X = dataset[:,0:8]\n",
        "Y = dataset[:,8]\n",
        "\n",
        "# create model\n",
        "model = KerasClassifier(build_fn=create_model, verbose=0)\n",
        "\n",
        "# define the grid search parameters\n",
        "batch_size = [10, 20, 40, 60, 80, 100]\n",
        "epochs = [10, 50, 100]\n",
        "param_grid = dict(batch_size=batch_size, epochs=epochs)\n",
        "grid = GridSearchCV(estimator=model, param_grid=param_grid, n_jobs=-1, cv=3)\n",
        "grid_result = grid.fit(X, Y)\n",
        "\n",
        "# summarize results\n",
        "print(\"Best: %f using %s\" % (grid_result.best_score_, grid_result.best_params_))\n",
        "means = grid_result.cv_results_['mean_test_score']\n",
        "stds = grid_result.cv_results_['std_test_score']\n",
        "params = grid_result.cv_results_['params']\n",
        "for mean, stdev, param in zip(means, stds, params):\n",
        "  print(\"%f (%f) with: %r\" % (mean, stdev, param))"
      ],
      "metadata": {
        "colab": {
          "base_uri": "https://localhost:8080/"
        },
        "id": "m7op33P-IQzp",
        "outputId": "0425f48e-2811-4495-aa6e-db597006bc0f"
      },
      "execution_count": 3,
      "outputs": [
        {
          "output_type": "stream",
          "name": "stderr",
          "text": [
            "<ipython-input-3-740bbcd9ffc1>:22: DeprecationWarning: KerasClassifier is deprecated, use Sci-Keras (https://github.com/adriangb/scikeras) instead. See https://www.adriangb.com/scikeras/stable/migration.html for help migrating.\n",
            "  model = KerasClassifier(build_fn=create_model, verbose=0)\n"
          ]
        },
        {
          "output_type": "stream",
          "name": "stdout",
          "text": [
            "Best: 0.695312 using {'batch_size': 10, 'epochs': 100}\n",
            "0.644531 (0.027251) with: {'batch_size': 10, 'epochs': 10}\n",
            "0.640625 (0.041707) with: {'batch_size': 10, 'epochs': 50}\n",
            "0.695312 (0.003189) with: {'batch_size': 10, 'epochs': 100}\n",
            "0.597656 (0.052505) with: {'batch_size': 20, 'epochs': 10}\n",
            "0.667969 (0.011500) with: {'batch_size': 20, 'epochs': 50}\n",
            "0.669271 (0.012075) with: {'batch_size': 20, 'epochs': 100}\n",
            "0.597656 (0.043146) with: {'batch_size': 40, 'epochs': 10}\n",
            "0.632812 (0.009568) with: {'batch_size': 40, 'epochs': 50}\n",
            "0.670573 (0.019488) with: {'batch_size': 40, 'epochs': 100}\n",
            "0.500000 (0.100404) with: {'batch_size': 60, 'epochs': 10}\n",
            "0.644531 (0.041707) with: {'batch_size': 60, 'epochs': 50}\n",
            "0.654948 (0.003683) with: {'batch_size': 60, 'epochs': 100}\n",
            "0.602865 (0.051164) with: {'batch_size': 80, 'epochs': 10}\n",
            "0.636719 (0.011049) with: {'batch_size': 80, 'epochs': 50}\n",
            "0.678385 (0.021236) with: {'batch_size': 80, 'epochs': 100}\n",
            "0.618490 (0.056186) with: {'batch_size': 100, 'epochs': 10}\n",
            "0.609375 (0.025315) with: {'batch_size': 100, 'epochs': 50}\n",
            "0.665365 (0.016367) with: {'batch_size': 100, 'epochs': 100}\n"
          ]
        }
      ]
    },
    {
      "cell_type": "code",
      "source": [
        "#grid search for beast optimizer \n",
        "##tuning optimization algorithm \n",
        "def create_model(optimizer='adam'):\n",
        "  # create model\n",
        "  model = Sequential()\n",
        "  model.add(Dense(12, input_dim=8, activation='relu'))\n",
        "  model.add(Dense(1, activation='sigmoid'))\n",
        "  # Compile model\n",
        "  model.compile(loss='binary_crossentropy', optimizer=optimizer, metrics=['accuracy'])\n",
        "  return model\n",
        "\n",
        "# fix random seed for reproducibility\n",
        "seed = 7\n",
        "numpy.random.seed(seed)\n",
        "\n",
        "# load dataset\n",
        "dataset = numpy.loadtxt(\"/content/pima-indians-diabetes.data.csv\" , delimiter=',')\n",
        "\n",
        "# split into input (X) and output (Y) variables\n",
        "X = dataset[:,0:8]\n",
        "Y = dataset[:,8]\n",
        "\n",
        "# create model\n",
        "model = KerasClassifier(build_fn=create_model, epochs=100, batch_size=10, verbose=0) #epochs=100, batch_size=10 cuz they were best parameters from 1st grid search \n",
        "# define the grid search parameters\n",
        "optimizer = ['SGD', 'RMSprop', 'Adagrad', 'Adadelta', 'Adam', 'Adamax', 'Nadam']\n",
        "param_grid = dict(optimizer=optimizer)\n",
        "grid = GridSearchCV(estimator=model, param_grid=param_grid, n_jobs=-1, cv=3)\n",
        "grid_result = grid.fit(X, Y)\n",
        "\n",
        "# summarize results\n",
        "print(\"Best: %f using %s\" % (grid_result.best_score_, grid_result.best_params_))\n",
        "means = grid_result.cv_results_['mean_test_score']\n",
        "stds = grid_result.cv_results_['std_test_score']\n",
        "params = grid_result.cv_results_['params']\n",
        "for mean, stdev, param in zip(means, stds, params):\n",
        "  print(\"%f (%f) with: %r\" % (mean, stdev, param))"
      ],
      "metadata": {
        "colab": {
          "base_uri": "https://localhost:8080/"
        },
        "id": "05DADOXqLQ6K",
        "outputId": "3dded9b3-2350-4e27-e0bc-a5d3e176c117"
      },
      "execution_count": 4,
      "outputs": [
        {
          "output_type": "stream",
          "name": "stderr",
          "text": [
            "<ipython-input-4-89c61a37fea5>:24: DeprecationWarning: KerasClassifier is deprecated, use Sci-Keras (https://github.com/adriangb/scikeras) instead. See https://www.adriangb.com/scikeras/stable/migration.html for help migrating.\n",
            "  model = KerasClassifier(build_fn=create_model, epochs=100, batch_size=10, verbose=0) #epochs=100, batch_size=10 cuz they were best parameters from 1st grid search\n"
          ]
        },
        {
          "output_type": "stream",
          "name": "stdout",
          "text": [
            "Best: 0.713542 using {'optimizer': 'Nadam'}\n",
            "0.667969 (0.029232) with: {'optimizer': 'SGD'}\n",
            "0.608073 (0.126631) with: {'optimizer': 'RMSprop'}\n",
            "0.552083 (0.070264) with: {'optimizer': 'Adagrad'}\n",
            "0.502604 (0.118239) with: {'optimizer': 'Adadelta'}\n",
            "0.703125 (0.024080) with: {'optimizer': 'Adam'}\n",
            "0.664062 (0.011500) with: {'optimizer': 'Adamax'}\n",
            "0.713542 (0.016053) with: {'optimizer': 'Nadam'}\n"
          ]
        }
      ]
    },
    {
      "cell_type": "code",
      "source": [
        "#grid search for beast activation function\n",
        "#tuning activation function\n",
        "def create_model(activation='relu'):\n",
        "  # create model\n",
        "  model = Sequential()\n",
        "  model.add(Dense(12, input_dim=8, kernel_initializer='uniform', activation=activation))\n",
        "  model.add(Dense(1, kernel_initializer='uniform', activation='sigmoid'))\n",
        "  # Compile model\n",
        "  model.compile(loss='binary_crossentropy', optimizer='adam', metrics=['accuracy']) #optimizer='adam' secoung beast optimizer from 2nd grid search\n",
        "  return model\n",
        "\n",
        "# fix random seed for reproducibility\n",
        "seed = 7\n",
        "numpy.random.seed(seed)\n",
        "\n",
        "# load dataset\n",
        "dataset = numpy.loadtxt(\"/content/pima-indians-diabetes.data.csv\" , delimiter=',')\n",
        "\n",
        "# split into input (X) and output (Y) variables\n",
        "X = dataset[:,0:8]\n",
        "Y = dataset[:,8]\n",
        "\n",
        "# create model\n",
        "model = KerasClassifier(build_fn=create_model, epochs=100, batch_size=10, verbose=0)\n",
        "\n",
        "# define the grid search parameters\n",
        "activation = ['softmax', 'softplus', 'softsign', 'relu', 'tanh', 'sigmoid', 'hard_sigmoid', 'linear']\n",
        "param_grid = dict(activation=activation)\n",
        "grid = GridSearchCV(estimator=model, param_grid=param_grid, n_jobs=-1, cv=3)\n",
        "grid_result = grid.fit(X, Y)\n",
        "\n",
        "# summarize results\n",
        "print(\"Best: %f using %s\" % (grid_result.best_score_, grid_result.best_params_))\n",
        "means = grid_result.cv_results_['mean_test_score']"
      ],
      "metadata": {
        "colab": {
          "base_uri": "https://localhost:8080/"
        },
        "id": "wfVtQonIOea0",
        "outputId": "7d0011cb-f09f-4270-a43b-8a405a70ad15"
      },
      "execution_count": 5,
      "outputs": [
        {
          "output_type": "stream",
          "name": "stderr",
          "text": [
            "<ipython-input-5-137a587d7236>:23: DeprecationWarning: KerasClassifier is deprecated, use Sci-Keras (https://github.com/adriangb/scikeras) instead. See https://www.adriangb.com/scikeras/stable/migration.html for help migrating.\n",
            "  model = KerasClassifier(build_fn=create_model, epochs=100, batch_size=10, verbose=0)\n"
          ]
        },
        {
          "output_type": "stream",
          "name": "stdout",
          "text": [
            "Best: 0.729167 using {'activation': 'relu'}\n"
          ]
        }
      ]
    },
    {
      "cell_type": "code",
      "source": [
        "#tuning dropout regularization\n",
        "from keras.layers import Dropout\n",
        "from keras.constraints import maxnorm\n",
        "def create_model(dropout_rate=0.0, weight_constraint=0):\n",
        "  # create model\n",
        "  model = Sequential()\n",
        "  model.add(Dense(12, input_dim=8, kernel_initializer='uniform', activation='softplus', kernel_constraint=maxnorm(weight_constraint)))\n",
        "  model.add(Dropout(dropout_rate))\n",
        "  model.add(Dense(1, kernel_initializer='uniform', activation='sigmoid'))\n",
        "  # Compile model\n",
        "  model.compile(loss='binary_crossentropy', optimizer='adam', metrics=['accuracy'])\n",
        "  return model\n",
        "\n",
        "# fix random seed for reproducibility\n",
        "seed = 7\n",
        "numpy.random.seed(seed)\n",
        "\n",
        "# load dataset\n",
        "dataset = numpy.loadtxt(\"/content/pima-indians-diabetes.data.csv\" , delimiter=',') #delimiter=',' for converting data\n",
        "\n",
        "# split into input (X) and output (Y) variables\n",
        "X = dataset[:,0:8]\n",
        "Y = dataset[:,8]\n",
        "\n",
        "# create model\n",
        "model = KerasClassifier(build_fn=create_model, epochs=100, batch_size=10, verbose=0)\n",
        "\n",
        "# define the grid search parameters\n",
        "weight_constraint = [1, 2, 3, 4, 5]\n",
        "dropout_rate = [0.0, 0.1, 0.2, 0.3, 0.4, 0.5, 0.6, 0.7, 0.8, 0.9]\n",
        "param_grid = dict(dropout_rate=dropout_rate, weight_constraint=weight_constraint)\n",
        "grid = GridSearchCV(estimator=model, param_grid=param_grid, n_jobs=-1, cv=3)\n",
        "grid_result = grid.fit(X, Y)\n",
        "\n",
        "# summarize results\n",
        "print(\"Best: %f using %s\" % (grid_result.best_score_, grid_result.best_params_))\n",
        "means = grid_result.cv_results_['mean_test_score']\n",
        "stds = grid_result.cv_results_['std_test_score']\n",
        "params = grid_result.cv_results_['params']\n",
        "for mean, stdev, param in zip(means, stds, params):\n",
        "  print(\"%f (%f) with: %r\" % (mean, stdev, param))"
      ],
      "metadata": {
        "colab": {
          "base_uri": "https://localhost:8080/"
        },
        "id": "2AGlWk0VQvZB",
        "outputId": "1b23c74c-1bf9-475a-961c-a6b16d7f9fa9"
      },
      "execution_count": 6,
      "outputs": [
        {
          "output_type": "stream",
          "name": "stderr",
          "text": [
            "<ipython-input-6-9ad590972ec7>:26: DeprecationWarning: KerasClassifier is deprecated, use Sci-Keras (https://github.com/adriangb/scikeras) instead. See https://www.adriangb.com/scikeras/stable/migration.html for help migrating.\n",
            "  model = KerasClassifier(build_fn=create_model, epochs=100, batch_size=10, verbose=0)\n"
          ]
        },
        {
          "output_type": "stream",
          "name": "stdout",
          "text": [
            "Best: 0.753906 using {'dropout_rate': 0.0, 'weight_constraint': 2}\n",
            "0.742188 (0.014616) with: {'dropout_rate': 0.0, 'weight_constraint': 1}\n",
            "0.753906 (0.025516) with: {'dropout_rate': 0.0, 'weight_constraint': 2}\n",
            "0.729167 (0.019488) with: {'dropout_rate': 0.0, 'weight_constraint': 3}\n",
            "0.734375 (0.013902) with: {'dropout_rate': 0.0, 'weight_constraint': 4}\n",
            "0.731771 (0.025976) with: {'dropout_rate': 0.0, 'weight_constraint': 5}\n",
            "0.730469 (0.011049) with: {'dropout_rate': 0.1, 'weight_constraint': 1}\n",
            "0.723958 (0.012890) with: {'dropout_rate': 0.1, 'weight_constraint': 2}\n",
            "0.735677 (0.023510) with: {'dropout_rate': 0.1, 'weight_constraint': 3}\n",
            "0.730469 (0.017758) with: {'dropout_rate': 0.1, 'weight_constraint': 4}\n",
            "0.721354 (0.015733) with: {'dropout_rate': 0.1, 'weight_constraint': 5}\n",
            "0.726562 (0.017758) with: {'dropout_rate': 0.2, 'weight_constraint': 1}\n",
            "0.716146 (0.023939) with: {'dropout_rate': 0.2, 'weight_constraint': 2}\n",
            "0.714844 (0.022326) with: {'dropout_rate': 0.2, 'weight_constraint': 3}\n",
            "0.707031 (0.008438) with: {'dropout_rate': 0.2, 'weight_constraint': 4}\n",
            "0.727865 (0.023510) with: {'dropout_rate': 0.2, 'weight_constraint': 5}\n",
            "0.720052 (0.021236) with: {'dropout_rate': 0.3, 'weight_constraint': 1}\n",
            "0.713542 (0.021236) with: {'dropout_rate': 0.3, 'weight_constraint': 2}\n",
            "0.717448 (0.009744) with: {'dropout_rate': 0.3, 'weight_constraint': 3}\n",
            "0.723958 (0.022402) with: {'dropout_rate': 0.3, 'weight_constraint': 4}\n",
            "0.726562 (0.015947) with: {'dropout_rate': 0.3, 'weight_constraint': 5}\n",
            "0.709635 (0.015073) with: {'dropout_rate': 0.4, 'weight_constraint': 1}\n",
            "0.713542 (0.012890) with: {'dropout_rate': 0.4, 'weight_constraint': 2}\n",
            "0.709635 (0.012075) with: {'dropout_rate': 0.4, 'weight_constraint': 3}\n",
            "0.725260 (0.018688) with: {'dropout_rate': 0.4, 'weight_constraint': 4}\n",
            "0.716146 (0.013279) with: {'dropout_rate': 0.4, 'weight_constraint': 5}\n",
            "0.703125 (0.027805) with: {'dropout_rate': 0.5, 'weight_constraint': 1}\n",
            "0.703125 (0.024080) with: {'dropout_rate': 0.5, 'weight_constraint': 2}\n",
            "0.703125 (0.014616) with: {'dropout_rate': 0.5, 'weight_constraint': 3}\n",
            "0.725260 (0.029463) with: {'dropout_rate': 0.5, 'weight_constraint': 4}\n",
            "0.701823 (0.011201) with: {'dropout_rate': 0.5, 'weight_constraint': 5}\n",
            "0.692708 (0.022402) with: {'dropout_rate': 0.6, 'weight_constraint': 1}\n",
            "0.699219 (0.003189) with: {'dropout_rate': 0.6, 'weight_constraint': 2}\n",
            "0.701823 (0.027866) with: {'dropout_rate': 0.6, 'weight_constraint': 3}\n",
            "0.682292 (0.010253) with: {'dropout_rate': 0.6, 'weight_constraint': 4}\n",
            "0.686198 (0.015733) with: {'dropout_rate': 0.6, 'weight_constraint': 5}\n",
            "0.677083 (0.014382) with: {'dropout_rate': 0.7, 'weight_constraint': 1}\n",
            "0.669271 (0.024360) with: {'dropout_rate': 0.7, 'weight_constraint': 2}\n",
            "0.667969 (0.022097) with: {'dropout_rate': 0.7, 'weight_constraint': 3}\n",
            "0.690104 (0.014382) with: {'dropout_rate': 0.7, 'weight_constraint': 4}\n",
            "0.674479 (0.021710) with: {'dropout_rate': 0.7, 'weight_constraint': 5}\n",
            "0.656250 (0.030425) with: {'dropout_rate': 0.8, 'weight_constraint': 1}\n",
            "0.651042 (0.024774) with: {'dropout_rate': 0.8, 'weight_constraint': 2}\n",
            "0.656250 (0.024080) with: {'dropout_rate': 0.8, 'weight_constraint': 3}\n",
            "0.651042 (0.024774) with: {'dropout_rate': 0.8, 'weight_constraint': 4}\n",
            "0.654948 (0.026748) with: {'dropout_rate': 0.8, 'weight_constraint': 5}\n",
            "0.651042 (0.024774) with: {'dropout_rate': 0.9, 'weight_constraint': 1}\n",
            "0.651042 (0.024774) with: {'dropout_rate': 0.9, 'weight_constraint': 2}\n",
            "0.651042 (0.024774) with: {'dropout_rate': 0.9, 'weight_constraint': 3}\n",
            "0.651042 (0.024774) with: {'dropout_rate': 0.9, 'weight_constraint': 4}\n",
            "0.651042 (0.024774) with: {'dropout_rate': 0.9, 'weight_constraint': 5}\n"
          ]
        }
      ]
    },
    {
      "cell_type": "code",
      "source": [
        "#tuning num of neurons \n",
        "def create_model(neurons=1):\n",
        "  # create model\n",
        "  model = Sequential()\n",
        "  model.add(Dense(neurons, input_dim=8, kernel_initializer='uniform', activation='relu', kernel_constraint=maxnorm(2)))\n",
        "  model.add(Dropout(0.0))\n",
        "  model.add(Dense(1, kernel_initializer='uniform', activation='sigmoid'))\n",
        "  # Compile model\n",
        "  model.compile(loss='binary_crossentropy', optimizer='adam', metrics=['accuracy'])\n",
        "  return model\n",
        "\n",
        "# fix random seed for reproducibility\n",
        "seed = 7\n",
        "numpy.random.seed(seed)\n",
        "\n",
        "# load dataset\n",
        "dataset = numpy.loadtxt(\"/content/pima-indians-diabetes.data.csv\" , delimiter=',') #delimiter=',' for converting data\n",
        "\n",
        "# split into input (X) and output (Y) variables\n",
        "X = dataset[:,0:8]\n",
        "Y = dataset[:,8]\n",
        "\n",
        "# create model\n",
        "model = KerasClassifier(build_fn=create_model, epochs=100, batch_size=10, verbose=0)\n",
        "\n",
        "# define the grid search parameters\n",
        "neurons = [1, 5, 10, 15, 20, 25, 30]\n",
        "param_grid = dict(neurons=neurons)\n",
        "grid = GridSearchCV(estimator=model, param_grid=param_grid, n_jobs=-1, cv=3)\n",
        "grid_result = grid.fit(X, Y)\n",
        "\n",
        "# summarize results\n",
        "print(\"Best: %f using %s\" % (grid_result.best_score_, grid_result.best_params_))\n",
        "means = grid_result.cv_results_['mean_test_score']\n",
        "stds = grid_result.cv_results_['std_test_score']\n",
        "params = grid_result.cv_results_['params']\n",
        "for mean, stdev, param in zip(means, stds, params):\n",
        "   print(\"%f (%f) with: %r\" % (mean, stdev, param))\n"
      ],
      "metadata": {
        "colab": {
          "base_uri": "https://localhost:8080/"
        },
        "id": "5voVxH91T9o0",
        "outputId": "40e3bbd9-ffa8-430e-a95b-21437aa4d3c0"
      },
      "execution_count": 11,
      "outputs": [
        {
          "output_type": "stream",
          "name": "stderr",
          "text": [
            "<ipython-input-11-e8180264f58e>:24: DeprecationWarning: KerasClassifier is deprecated, use Sci-Keras (https://github.com/adriangb/scikeras) instead. See https://www.adriangb.com/scikeras/stable/migration.html for help migrating.\n",
            "  model = KerasClassifier(build_fn=create_model, epochs=100, batch_size=10, verbose=0)\n"
          ]
        },
        {
          "output_type": "stream",
          "name": "stdout",
          "text": [
            "Best: 0.723958 using {'neurons': 10}\n",
            "0.653646 (0.025976) with: {'neurons': 1}\n",
            "0.705729 (0.024150) with: {'neurons': 5}\n",
            "0.723958 (0.010253) with: {'neurons': 10}\n",
            "0.721354 (0.016367) with: {'neurons': 15}\n",
            "0.713542 (0.018688) with: {'neurons': 20}\n",
            "0.718750 (0.030425) with: {'neurons': 25}\n",
            "0.713542 (0.016367) with: {'neurons': 30}\n"
          ]
        }
      ]
    },
    {
      "cell_type": "code",
      "source": [
        "#Tuning learning rate and momentum only used for SGD\n",
        "from keras.optimizers import SGD\n",
        "def create_model(learn_rate=0.01, momentum=0):\n",
        "  # create model\n",
        "  model = Sequential()\n",
        "  model.add(Dense(12, input_dim=8, activation='relu'))\n",
        "  model.add(Dense(1, activation='sigmoid'))\n",
        "  # Compile model\n",
        "  optimizer = SGD(lr=learn_rate, momentum=momentum)\n",
        "  model.compile(loss='binary_crossentropy', optimizer=optimizer, metrics=['accuracy'])\n",
        "  return model\n",
        "\n",
        "# fix random seed for reproducibility\n",
        "seed = 7\n",
        "numpy.random.seed(seed)\n",
        "\n",
        "# load dataset\n",
        "dataset = numpy.loadtxt(\"/content/pima-indians-diabetes.data.csv\" , delimiter=',') #delimiter=',' for converting data\n",
        "\n",
        "# split into input (X) and output (Y) variables\n",
        "X = dataset[:,0:8]\n",
        "Y = dataset[:,8]\n",
        "\n",
        "# create model\n",
        "model = KerasClassifier(build_fn=create_model, epochs=100, batch_size=10, verbose=0)\n",
        "\n",
        "# define the grid search parameters\n",
        "learn_rate = [0.001, 0.01, 0.1, 0.2, 0.3]\n",
        "momentum = [0.0, 0.2, 0.4, 0.6, 0.8, 0.9]\n",
        "param_grid = dict(learn_rate=learn_rate, momentum=momentum)\n",
        "grid = GridSearchCV(estimator=model, param_grid=param_grid, n_jobs=-1, cv=3)\n",
        "grid_result = grid.fit(X, Y)\n",
        "\n",
        "# summarize results\n",
        "print(\"Best: %f using %s\" % (grid_result.best_score_, grid_result.best_params_))\n",
        "means = grid_result.cv_results_['mean_test_score']\n",
        "stds = grid_result.cv_results_['std_test_score']\n",
        "params = grid_result.cv_results_['params']\n",
        "for mean, stdev, param in zip(means, stds, params):\n",
        "   print(\"%f (%f) with: %r\" % (mean, stdev, param))"
      ],
      "metadata": {
        "colab": {
          "base_uri": "https://localhost:8080/"
        },
        "id": "5xknkaMWVml_",
        "outputId": "e55ab181-c73a-4b27-8faa-74fbe82d3f2e"
      },
      "execution_count": 13,
      "outputs": [
        {
          "output_type": "stream",
          "name": "stderr",
          "text": [
            "<ipython-input-13-ad469f0aa2b5>:25: DeprecationWarning: KerasClassifier is deprecated, use Sci-Keras (https://github.com/adriangb/scikeras) instead. See https://www.adriangb.com/scikeras/stable/migration.html for help migrating.\n",
            "  model = KerasClassifier(build_fn=create_model, epochs=100, batch_size=10, verbose=0)\n",
            "/usr/local/lib/python3.8/dist-packages/joblib/externals/loky/process_executor.py:700: UserWarning: A worker stopped while some jobs were given to the executor. This can be caused by a too short worker timeout or by a memory leak.\n",
            "  warnings.warn(\n"
          ]
        },
        {
          "output_type": "stream",
          "name": "stdout",
          "text": [
            "Best: 0.691406 using {'learn_rate': 0.001, 'momentum': 0.2}\n",
            "0.654948 (0.030145) with: {'learn_rate': 0.001, 'momentum': 0.0}\n",
            "0.691406 (0.011500) with: {'learn_rate': 0.001, 'momentum': 0.2}\n",
            "0.657552 (0.019488) with: {'learn_rate': 0.001, 'momentum': 0.4}\n",
            "0.687500 (0.016877) with: {'learn_rate': 0.001, 'momentum': 0.6}\n",
            "0.690104 (0.017566) with: {'learn_rate': 0.001, 'momentum': 0.8}\n",
            "0.644531 (0.024910) with: {'learn_rate': 0.001, 'momentum': 0.9}\n",
            "0.652344 (0.016877) with: {'learn_rate': 0.01, 'momentum': 0.0}\n",
            "0.649740 (0.026557) with: {'learn_rate': 0.01, 'momentum': 0.2}\n",
            "0.648438 (0.028348) with: {'learn_rate': 0.01, 'momentum': 0.4}\n",
            "0.649740 (0.024360) with: {'learn_rate': 0.01, 'momentum': 0.6}\n",
            "0.651042 (0.024774) with: {'learn_rate': 0.01, 'momentum': 0.8}\n",
            "0.651042 (0.024774) with: {'learn_rate': 0.01, 'momentum': 0.9}\n",
            "0.652344 (0.022999) with: {'learn_rate': 0.1, 'momentum': 0.0}\n",
            "0.651042 (0.024774) with: {'learn_rate': 0.1, 'momentum': 0.2}\n",
            "0.651042 (0.024774) with: {'learn_rate': 0.1, 'momentum': 0.4}\n",
            "0.651042 (0.024774) with: {'learn_rate': 0.1, 'momentum': 0.6}\n",
            "0.651042 (0.024774) with: {'learn_rate': 0.1, 'momentum': 0.8}\n",
            "0.651042 (0.024774) with: {'learn_rate': 0.1, 'momentum': 0.9}\n",
            "0.651042 (0.024774) with: {'learn_rate': 0.2, 'momentum': 0.0}\n",
            "0.651042 (0.024774) with: {'learn_rate': 0.2, 'momentum': 0.2}\n",
            "0.651042 (0.024774) with: {'learn_rate': 0.2, 'momentum': 0.4}\n",
            "0.651042 (0.024774) with: {'learn_rate': 0.2, 'momentum': 0.6}\n",
            "0.651042 (0.024774) with: {'learn_rate': 0.2, 'momentum': 0.8}\n",
            "0.651042 (0.024774) with: {'learn_rate': 0.2, 'momentum': 0.9}\n",
            "0.651042 (0.024774) with: {'learn_rate': 0.3, 'momentum': 0.0}\n",
            "0.651042 (0.024774) with: {'learn_rate': 0.3, 'momentum': 0.2}\n",
            "0.651042 (0.024774) with: {'learn_rate': 0.3, 'momentum': 0.4}\n",
            "0.651042 (0.024774) with: {'learn_rate': 0.3, 'momentum': 0.6}\n",
            "0.651042 (0.024774) with: {'learn_rate': 0.3, 'momentum': 0.8}\n",
            "0.544271 (0.146518) with: {'learn_rate': 0.3, 'momentum': 0.9}\n"
          ]
        }
      ]
    }
  ]
}