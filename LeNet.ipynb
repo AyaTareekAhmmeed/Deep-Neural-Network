{
  "nbformat": 4,
  "nbformat_minor": 0,
  "metadata": {
    "colab": {
      "provenance": [],
      "authorship_tag": "ABX9TyMptuNPCTM5ZeuMeOn9SLDt",
      "include_colab_link": true
    },
    "kernelspec": {
      "name": "python3",
      "display_name": "Python 3"
    },
    "language_info": {
      "name": "python"
    },
    "accelerator": "GPU",
    "gpuClass": "standard"
  },
  "cells": [
    {
      "cell_type": "markdown",
      "metadata": {
        "id": "view-in-github",
        "colab_type": "text"
      },
      "source": [
        "<a href=\"https://colab.research.google.com/github/AyaTareekAhmmeed/Deep-Neural-Network/blob/main/LeNet.ipynb\" target=\"_parent\"><img src=\"https://colab.research.google.com/assets/colab-badge.svg\" alt=\"Open In Colab\"/></a>"
      ]
    },
    {
      "cell_type": "code",
      "execution_count": 1,
      "metadata": {
        "id": "fmxt0wcSKDlx"
      },
      "outputs": [],
      "source": [
        "from keras import models, layers\n",
        "import keras"
      ]
    },
    {
      "cell_type": "code",
      "source": [
        "#num of layers increase going down\n",
        "#LeNet contain of input layer then, convolution of 6 layers then subsampling then another convolution and subsampling ,then full connection to connect all layers and another full conection and at last we use Gaussian connection to apply Gaussian map\n",
        "class LeNet(models.Sequential):\n",
        "  def __init__(self, input_shape, nb_classes):\n",
        "    super().__init__()\n",
        "    self.add(layers.Conv2D(6, kernel_size=(5, 5), strides=(1, 1), activation='tanh', input_shape=input_shape, padding=\"same\"))\n",
        "    self.add(layers.AveragePooling2D(pool_size=(2, 2), strides=(1, 1), padding='valid'))\n",
        "    self.add(layers.Conv2D(16, kernel_size=(5, 5), strides=(1, 1), activation='tanh', padding='valid'))\n",
        "    self.add(layers.AveragePooling2D(pool_size=(2, 2), strides=(2, 2), padding='valid'))\n",
        "    self.add(layers.Conv2D(120, kernel_size=(5, 5), strides=(1, 1), activation='tanh', padding='valid'))\n",
        "    self.add(layers.Flatten())\n",
        "    self.add(layers.Dense(84, activation='tanh'))\n",
        "    self.add(layers.Dense(nb_classes, activation='softmax'))\n",
        "\n",
        "    self.compile(loss=keras.losses.categorical_crossentropy, optimizer='SGD')\n",
        "    self.summary()\n",
        "\n"
      ],
      "metadata": {
        "id": "6nlqIm7xKXxF"
      },
      "execution_count": 2,
      "outputs": []
    }
  ]
}