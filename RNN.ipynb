{
  "nbformat": 4,
  "nbformat_minor": 0,
  "metadata": {
    "colab": {
      "provenance": [],
      "authorship_tag": "ABX9TyOCtqpv0fLOrfCXomQnPuDZ",
      "include_colab_link": true
    },
    "kernelspec": {
      "name": "python3",
      "display_name": "Python 3"
    },
    "language_info": {
      "name": "python"
    },
    "accelerator": "GPU",
    "gpuClass": "standard"
  },
  "cells": [
    {
      "cell_type": "markdown",
      "metadata": {
        "id": "view-in-github",
        "colab_type": "text"
      },
      "source": [
        "<a href=\"https://colab.research.google.com/github/AyaTareekAhmmeed/Deep-Neural-Network/blob/main/RNN.ipynb\" target=\"_parent\"><img src=\"https://colab.research.google.com/assets/colab-badge.svg\" alt=\"Open In Colab\"/></a>"
      ]
    },
    {
      "cell_type": "code",
      "execution_count": 1,
      "metadata": {
        "id": "cgAoIelWzlSb"
      },
      "outputs": [],
      "source": [
        "#Recurrent Neural Network\n",
        "#mostly used for Sequential data like speech and text \n",
        "#RNN is type of neural network where the output from previous step are feed as input to current step\n",
        "#in traditional neural networks all cases are independent from each other But in RNN they are dependent on each other\n",
        "#RNN can be:\n",
        "#1-one-to-one like char to char translation \n",
        "#2-one-to-many like image captioning \n",
        "#3-many-to-one like RNN for sentiment analysis \"Review of words\"\n",
        "#4-many-to-many like RNN for machine language translation \"Foreign language input\"\n",
        "#in RNN reuse same weight matrix at every time-step & Loss Function L is sum of all the loss across layers"
      ]
    },
    {
      "cell_type": "code",
      "source": [
        "#Backpropagation Through Time in RNN \n",
        "#remember forward pass calculates loss BUT backward pass calculates gradients \n",
        "#but backpropagation requires high computational power when sequence is too long\n",
        "#so it is better commonly used:\n",
        "#Truncated Backoropagation through time this means Batching \"splitting dataset in n batches\" when applying this you run forward sand backward through chuckles of sequence instead of whole sequence "
      ],
      "metadata": {
        "id": "lduHGif94cts"
      },
      "execution_count": 2,
      "outputs": []
    },
    {
      "cell_type": "code",
      "source": [
        "#RNN Training Issues\n",
        "#1- Exploding gradients when \"Largest Singular value > 1\"\n",
        "#Solved by Gradient Clipping \"scale gradient if its norm is too big\"\n",
        "\"\"\"grade_norm = np.sum(grad * grad)\n",
        "if grade_norm > threshold:\n",
        "  grad *= (threshold/grade_norm)\"\"\"\n",
        "\n",
        "#2- Vanishing Gradients when \"Largest Singular value < 1\"\n",
        "#Solved by Changing RNN architecture "
      ],
      "metadata": {
        "colab": {
          "base_uri": "https://localhost:8080/",
          "height": 35
        },
        "id": "ucoEDs2o73u7",
        "outputId": "9f631435-2a30-47ba-df32-e98201d9207b"
      },
      "execution_count": 3,
      "outputs": [
        {
          "output_type": "execute_result",
          "data": {
            "text/plain": [
              "'grade_norm = np.sum(grad * grad)\\nif grade_norm > threshold:\\n  grad *= (threshold/grade_norm)'"
            ],
            "application/vnd.google.colaboratory.intrinsic+json": {
              "type": "string"
            }
          },
          "metadata": {},
          "execution_count": 3
        }
      ]
    },
    {
      "cell_type": "code",
      "source": [
        "#Types of RNN\n",
        "#1- Vanilla \n",
        "#problems with vanilla (Matrix multiplication&High computational power needed) alseo Exploding and Vanishing \n",
        "\n",
        "#2- Long Short Term Memory (LSTM)\n",
        "#adv (Elementwise multiplication&less computational power needed and faster training)\n",
        "#contain of:\n",
        "#Input Gate , Forgot Gate , Output Gate all use segmoid ,and Gate Gate it use tanh\n",
        "#also it is uninterrupted gradient flow has no Exploding and Vanishing \n",
        "#used if sequence is large or accuracy is very critical cuz it provides high accuracy\n",
        "\n",
        "#3- Gated Recurrent Unit (GRU)\n",
        "#contain of:\n",
        "#Reset Gate: decide how much of the past information to forget\n",
        "#Update Gate: decide how much of past information needs to be passed along to the future\n",
        "#used when you want to control flow of data but without having to use a memory unit \"less memory and faster operations\" BUT less accuracy \n"
      ],
      "metadata": {
        "id": "e-q1Q0jpBMRj"
      },
      "execution_count": 4,
      "outputs": []
    },
    {
      "cell_type": "code",
      "source": [
        "#import libraries \n",
        "import csv\n",
        "import tensorflow as tf\n",
        "import numpy as np\n",
        "from tensorflow.keras.preprocessing.text import Tokenizer\n",
        "from tensorflow.keras.preprocessing.sequence import pad_sequences\n",
        "import pandas as pd"
      ],
      "metadata": {
        "id": "V9-wMeMthiMf"
      },
      "execution_count": 8,
      "outputs": []
    },
    {
      "cell_type": "code",
      "source": [
        "#loading data\n",
        "data = pd.read_csv(\"/content/bbc-text (1).csv\")"
      ],
      "metadata": {
        "id": "EnCDclXhiMmh"
      },
      "execution_count": 10,
      "outputs": []
    },
    {
      "cell_type": "code",
      "source": [
        "vocab_size = 1000\n",
        "embedding_dim = 16\n",
        "max_length = 120\n",
        "trunc_type='post'\n",
        "padding_type='post'\n",
        "oov_tok = \"OOV\" #out of vocabulary when having new word \n",
        "training_portion = .8 #80% training "
      ],
      "metadata": {
        "id": "f3vGpcrIipSd"
      },
      "execution_count": 11,
      "outputs": []
    },
    {
      "cell_type": "code",
      "source": [
        "sentences = []\n",
        "labels = []\n",
        "stopwords = [ \"a\", \"about\", \"above\", \"after\", \"again\", \"against\", \"all\", \"am\", \"an\", \"and\", \"any\", \"are\", \"as\", \"at\", \"be\", \"because\", \"been\", \"before\", \"being\", \"below\", \"between\", \"both\", \"but\", \"by\", \"could\", \"did\", \"do\", \"does\", \"doing\", \"down\", \"during\", \"each\", \"few\", \"for\", \"from\", \"further\", \"had\", \"has\", \"have\", \"having\", \"he\", \"he'd\", \"he'll\", \"he's\", \"her\", \"here\", \"here's\", \"hers\", \"herself\", \"him\", \"himself\", \"his\", \"how\", \"how's\", \"i\", \"i'd\", \"i'll\", \"i'm\", \"i've\", \"if\", \"in\", \"into\", \"is\", \"it\", \"it's\", \"its\", \"itself\", \"let's\", \"me\", \"more\", \"most\", \"my\", \"myself\", \"nor\", \"of\", \"on\", \"once\", \"only\", \"or\", \"other\", \"ought\", \"our\", \"ours\", \"ourselves\", \"out\", \"over\", \"own\", \"same\", \"she\", \"she'd\", \"she'll\", \"she's\", \"should\", \"so\", \"some\", \"such\", \"than\", \"that\", \"that's\", \"the\", \"their\", \"theirs\", \"them\", \"themselves\", \"then\", \"there\", \"there's\", \"these\", \"they\", \"they'd\", \"they'll\", \"they're\", \"they've\", \"this\", \"those\", \"through\", \"to\", \"too\", \"under\", \"until\", \"up\", \"very\", \"was\", \"we\", \"we'd\", \"we'll\", \"we're\", \"we've\", \"were\", \"what\", \"what's\", \"when\", \"when's\", \"where\", \"where's\", \"which\", \"while\", \"who\", \"who's\", \"whom\", \"why\", \"why's\", \"with\", \"would\", \"you\", \"you'd\", \"you'll\", \"you're\", \"you've\", \"your\", \"yours\", \"yourself\", \"yourselves\"]\n",
        "print(len(stopwords))"
      ],
      "metadata": {
        "colab": {
          "base_uri": "https://localhost:8080/"
        },
        "id": "1cbDC0fRl4_n",
        "outputId": "eaf7a2f5-7cef-4b71-e375-43842fa5166c"
      },
      "execution_count": 12,
      "outputs": [
        {
          "output_type": "stream",
          "name": "stdout",
          "text": [
            "153\n"
          ]
        }
      ]
    },
    {
      "cell_type": "code",
      "source": [
        "#read data\n",
        "with open(\"/content/bbc-text (1).csv\", 'r') as csvfile:  #'r' used to open data\n",
        "  reader = csv.reader(csvfile, delimiter=',') # delimiter=','\n",
        "  next(reader) \n",
        "  for row in reader:  #to read words and sentences \n",
        "      labels.append(row[0])\n",
        "      sentence = row[1]\n",
        "      for word in stopwords:\n",
        "          token = \" \" + word + \" \"\n",
        "          sentence = sentence.replace(token, \" \")\n",
        "      sentences.append(sentence)\n",
        "\n",
        "print(len(labels))\n",
        "print(len(sentences))\n",
        "print(sentences[0])"
      ],
      "metadata": {
        "colab": {
          "base_uri": "https://localhost:8080/"
        },
        "id": "rli7Qp3UpnQQ",
        "outputId": "567ff134-7bb3-4a51-8d12-4e4d97023a32"
      },
      "execution_count": 13,
      "outputs": [
        {
          "output_type": "stream",
          "name": "stdout",
          "text": [
            "2225\n",
            "2225\n",
            "tv future hands viewers home theatre systems  plasma high-definition tvs  digital video recorders moving living room  way people watch tv will radically different five years  time.  according expert panel gathered annual consumer electronics show las vegas discuss new technologies will impact one favourite pastimes. us leading trend  programmes content will delivered viewers via home networks  cable  satellite  telecoms companies  broadband service providers front rooms portable devices.  one talked-about technologies ces digital personal video recorders (dvr pvr). set-top boxes  like us s tivo uk s sky+ system  allow people record  store  play  pause forward wind tv programmes want.  essentially  technology allows much personalised tv. also built-in high-definition tv sets  big business japan us  slower take off europe lack high-definition programming. not can people forward wind adverts  can also forget abiding network channel schedules  putting together a-la-carte entertainment. us networks cable satellite companies worried means terms advertising revenues well  brand identity  viewer loyalty channels. although us leads technology moment  also concern raised europe  particularly growing uptake services like sky+.  happens today  will see nine months years  time uk   adam hume  bbc broadcast s futurologist told bbc news website. likes bbc  no issues lost advertising revenue yet. pressing issue moment commercial uk broadcasters  brand loyalty important everyone.  will talking content brands rather network brands   said tim hanlon  brand communications firm starcom mediavest.  reality broadband connections  anybody can producer content.  added:  challenge now hard promote programme much choice.   means  said stacey jolna  senior vice president tv guide tv group  way people find content want watch simplified tv viewers. means networks  us terms  channels take leaf google s book search engine future  instead scheduler help people find want watch. kind channel model might work younger ipod generation used taking control gadgets play them. might not suit everyone  panel recognised. older generations comfortable familiar schedules channel brands know getting. perhaps not want much choice put hands  mr hanlon suggested.  end  kids just diapers pushing buttons already - everything possible available   said mr hanlon.  ultimately  consumer will tell market want.   50 000 new gadgets technologies showcased ces  many enhancing tv-watching experience. high-definition tv sets everywhere many new models lcd (liquid crystal display) tvs launched dvr capability built  instead external boxes. one example launched show humax s 26-inch lcd tv 80-hour tivo dvr dvd recorder. one us s biggest satellite tv companies  directtv  even launched branded dvr show 100-hours recording capability  instant replay  search function. set can pause rewind tv 90 hours. microsoft chief bill gates announced pre-show keynote speech partnership tivo  called tivotogo  means people can play recorded programmes windows pcs mobile devices. reflect increasing trend freeing multimedia people can watch want  want.\n"
          ]
        }
      ]
    },
    {
      "cell_type": "code",
      "source": [
        "train_size = int(len(sentences) * training_portion)\n",
        "\n",
        "train_sentences = sentences[:train_size] #train = 80%\n",
        "train_labels = labels[:train_size]\n",
        "\n",
        "validation_sentences = sentences[train_size:] #validation = 100-80 = 20%\n",
        "validation_labels = labels[train_size:]\n",
        "\n",
        "print(train_size)\n",
        "print(len(train_sentences))\n",
        "print(len(train_labels))\n",
        "print(len(validation_sentences))\n",
        "print(len(validation_labels))"
      ],
      "metadata": {
        "colab": {
          "base_uri": "https://localhost:8080/"
        },
        "id": "kWy-GSEWrPqT",
        "outputId": "782c38ca-ce21-48f6-82db-1d06e22aab3b"
      },
      "execution_count": 14,
      "outputs": [
        {
          "output_type": "stream",
          "name": "stdout",
          "text": [
            "1780\n",
            "1780\n",
            "1780\n",
            "445\n",
            "445\n"
          ]
        }
      ]
    },
    {
      "cell_type": "code",
      "source": [
        "#Tokenize used to arrange data depending on it\n",
        "tokenizer = Tokenizer(num_words = vocab_size, oov_token=oov_tok)\n",
        "#train fitting\n",
        "tokenizer.fit_on_texts(train_sentences)\n",
        "word_index = tokenizer.word_index\n",
        "\n",
        "#train sequence \n",
        "train_sequences = tokenizer.texts_to_sequences(train_sentences) #transfer texts into sequences\n",
        "#train padding\n",
        "train_padded = pad_sequences(train_sequences, padding=padding_type, maxlen=max_length)\n",
        "\n",
        "print(len(train_sequences[0]))\n",
        "print(len(train_padded[0]))\n",
        "\n",
        "print(len(train_sequences[1]))\n",
        "print(len(train_padded[1]))\n",
        "\n",
        "print(len(train_sequences[10]))\n",
        "print(len(train_padded[10]))"
      ],
      "metadata": {
        "colab": {
          "base_uri": "https://localhost:8080/"
        },
        "id": "CFSswiqgsMCk",
        "outputId": "853391b4-f3d4-47cd-de6b-61644d5e1768"
      },
      "execution_count": 15,
      "outputs": [
        {
          "output_type": "stream",
          "name": "stdout",
          "text": [
            "449\n",
            "120\n",
            "200\n",
            "120\n",
            "192\n",
            "120\n"
          ]
        }
      ]
    },
    {
      "cell_type": "code",
      "source": [
        "#validation sequence \n",
        "validation_sequences = tokenizer.texts_to_sequences(validation_sentences)\n",
        "\n",
        "#validation padding\n",
        "validation_padded = pad_sequences(validation_sequences, padding=padding_type, maxlen=max_length)\n",
        "print(len(validation_sequences))\n",
        "print(validation_padded.shape)"
      ],
      "metadata": {
        "colab": {
          "base_uri": "https://localhost:8080/"
        },
        "id": "vsOxRe42tf7d",
        "outputId": "5e1f4fbc-9638-45e4-f00e-bf400bf1964e"
      },
      "execution_count": 17,
      "outputs": [
        {
          "output_type": "stream",
          "name": "stdout",
          "text": [
            "445\n",
            "(445, 120)\n"
          ]
        }
      ]
    },
    {
      "cell_type": "code",
      "source": [
        "#working with labels\n",
        "label_tokenizer = Tokenizer() #call Tokenizer()\n",
        "label_tokenizer.fit_on_texts(labels) #fit labels into Tokenizer\n",
        "\n",
        "#training label sequence \n",
        "training_label_seq = np.array(label_tokenizer.texts_to_sequences(train_labels))\n",
        "#validation label sequence \n",
        "validation_label_seq = np.array(label_tokenizer.texts_to_sequences(validation_labels))\n",
        "\n",
        "print(training_label_seq[0])\n",
        "print(training_label_seq[1])\n",
        "print(training_label_seq[2])\n",
        "print(training_label_seq.shape)\n",
        "\n",
        "print(validation_label_seq[0])\n",
        "print(validation_label_seq[1])\n",
        "print(validation_label_seq[2])\n",
        "\n",
        "print(validation_label_seq.shape)"
      ],
      "metadata": {
        "colab": {
          "base_uri": "https://localhost:8080/"
        },
        "id": "pDV4veoxuB89",
        "outputId": "5209bf29-1e48-412b-9bbd-081859007d57"
      },
      "execution_count": 18,
      "outputs": [
        {
          "output_type": "stream",
          "name": "stdout",
          "text": [
            "[4]\n",
            "[2]\n",
            "[1]\n",
            "(1780, 1)\n",
            "[5]\n",
            "[4]\n",
            "[3]\n",
            "(445, 1)\n"
          ]
        }
      ]
    },
    {
      "cell_type": "code",
      "source": [
        "#Building Model\n",
        "model = tf.keras.Sequential([\n",
        "    tf.keras.layers.Embedding(vocab_size, embedding_dim, input_length=max_length), #first layer is Embedding \n",
        "     tf.keras.layers.GlobalAveragePooling1D(), #second layer is GlobalAveragePooling1D and it is 1D cuz it deals with texts \n",
        "     tf.keras.layers.Dense(24, activation='relu'), #third layer is normal hidden layer where activation='relu'\n",
        "     tf.keras.layers.Dense(6, activation='softmax') #output layer\n",
        "])\n",
        "\n",
        "#compiling model\n",
        "model.compile(loss='sparse_categorical_crossentropy',optimizer='adam',metrics=['accuracy'])\n",
        "\n",
        "model.summary()"
      ],
      "metadata": {
        "colab": {
          "base_uri": "https://localhost:8080/"
        },
        "id": "G4mfD2gRvBe7",
        "outputId": "f9a04abc-776c-402a-859f-dbc8236a959a"
      },
      "execution_count": 19,
      "outputs": [
        {
          "output_type": "stream",
          "name": "stdout",
          "text": [
            "Model: \"sequential\"\n",
            "_________________________________________________________________\n",
            " Layer (type)                Output Shape              Param #   \n",
            "=================================================================\n",
            " embedding (Embedding)       (None, 120, 16)           16000     \n",
            "                                                                 \n",
            " global_average_pooling1d (G  (None, 16)               0         \n",
            " lobalAveragePooling1D)                                          \n",
            "                                                                 \n",
            " dense (Dense)               (None, 24)                408       \n",
            "                                                                 \n",
            " dense_1 (Dense)             (None, 6)                 150       \n",
            "                                                                 \n",
            "=================================================================\n",
            "Total params: 16,558\n",
            "Trainable params: 16,558\n",
            "Non-trainable params: 0\n",
            "_________________________________________________________________\n"
          ]
        }
      ]
    },
    {
      "cell_type": "code",
      "source": [
        "#training data based on our model\n",
        "num_epochs = 30 #use 30 epochs for training \n",
        "history = model.fit(train_padded, training_label_seq, epochs=num_epochs, validation_data=(validation_padded, validation_label_seq), verbose=2)"
      ],
      "metadata": {
        "colab": {
          "base_uri": "https://localhost:8080/"
        },
        "id": "-9nOwX29wowf",
        "outputId": "92ddfcfe-a944-4275-ca85-1723fc93e499"
      },
      "execution_count": 20,
      "outputs": [
        {
          "output_type": "stream",
          "name": "stdout",
          "text": [
            "Epoch 1/30\n",
            "56/56 - 3s - loss: 1.7668 - accuracy: 0.3337 - val_loss: 1.7335 - val_accuracy: 0.4539 - 3s/epoch - 58ms/step\n",
            "Epoch 2/30\n",
            "56/56 - 0s - loss: 1.6767 - accuracy: 0.4427 - val_loss: 1.6223 - val_accuracy: 0.4180 - 236ms/epoch - 4ms/step\n",
            "Epoch 3/30\n",
            "56/56 - 0s - loss: 1.5339 - accuracy: 0.4253 - val_loss: 1.4690 - val_accuracy: 0.4494 - 199ms/epoch - 4ms/step\n",
            "Epoch 4/30\n",
            "56/56 - 0s - loss: 1.3549 - accuracy: 0.4635 - val_loss: 1.2911 - val_accuracy: 0.4989 - 249ms/epoch - 4ms/step\n",
            "Epoch 5/30\n",
            "56/56 - 0s - loss: 1.1688 - accuracy: 0.5663 - val_loss: 1.1316 - val_accuracy: 0.6045 - 201ms/epoch - 4ms/step\n",
            "Epoch 6/30\n",
            "56/56 - 0s - loss: 1.0041 - accuracy: 0.6854 - val_loss: 0.9958 - val_accuracy: 0.6831 - 244ms/epoch - 4ms/step\n",
            "Epoch 7/30\n",
            "56/56 - 0s - loss: 0.8633 - accuracy: 0.7983 - val_loss: 0.8728 - val_accuracy: 0.7888 - 249ms/epoch - 4ms/step\n",
            "Epoch 8/30\n",
            "56/56 - 0s - loss: 0.7331 - accuracy: 0.8663 - val_loss: 0.7589 - val_accuracy: 0.8449 - 239ms/epoch - 4ms/step\n",
            "Epoch 9/30\n",
            "56/56 - 0s - loss: 0.6160 - accuracy: 0.9006 - val_loss: 0.6607 - val_accuracy: 0.8652 - 194ms/epoch - 3ms/step\n",
            "Epoch 10/30\n",
            "56/56 - 0s - loss: 0.5145 - accuracy: 0.9230 - val_loss: 0.5727 - val_accuracy: 0.8809 - 204ms/epoch - 4ms/step\n",
            "Epoch 11/30\n",
            "56/56 - 0s - loss: 0.4287 - accuracy: 0.9354 - val_loss: 0.5001 - val_accuracy: 0.8876 - 209ms/epoch - 4ms/step\n",
            "Epoch 12/30\n",
            "56/56 - 0s - loss: 0.3601 - accuracy: 0.9438 - val_loss: 0.4529 - val_accuracy: 0.8966 - 197ms/epoch - 4ms/step\n",
            "Epoch 13/30\n",
            "56/56 - 0s - loss: 0.3059 - accuracy: 0.9506 - val_loss: 0.3989 - val_accuracy: 0.9034 - 209ms/epoch - 4ms/step\n",
            "Epoch 14/30\n",
            "56/56 - 0s - loss: 0.2619 - accuracy: 0.9607 - val_loss: 0.3703 - val_accuracy: 0.9101 - 225ms/epoch - 4ms/step\n",
            "Epoch 15/30\n",
            "56/56 - 0s - loss: 0.2282 - accuracy: 0.9663 - val_loss: 0.3368 - val_accuracy: 0.9146 - 202ms/epoch - 4ms/step\n",
            "Epoch 16/30\n",
            "56/56 - 0s - loss: 0.1993 - accuracy: 0.9674 - val_loss: 0.3290 - val_accuracy: 0.9079 - 200ms/epoch - 4ms/step\n",
            "Epoch 17/30\n",
            "56/56 - 0s - loss: 0.1773 - accuracy: 0.9736 - val_loss: 0.2978 - val_accuracy: 0.9169 - 209ms/epoch - 4ms/step\n",
            "Epoch 18/30\n",
            "56/56 - 0s - loss: 0.1569 - accuracy: 0.9758 - val_loss: 0.2814 - val_accuracy: 0.9169 - 198ms/epoch - 4ms/step\n",
            "Epoch 19/30\n",
            "56/56 - 0s - loss: 0.1404 - accuracy: 0.9787 - val_loss: 0.2711 - val_accuracy: 0.9236 - 192ms/epoch - 3ms/step\n",
            "Epoch 20/30\n",
            "56/56 - 0s - loss: 0.1262 - accuracy: 0.9820 - val_loss: 0.2575 - val_accuracy: 0.9191 - 229ms/epoch - 4ms/step\n",
            "Epoch 21/30\n",
            "56/56 - 0s - loss: 0.1133 - accuracy: 0.9843 - val_loss: 0.2501 - val_accuracy: 0.9213 - 211ms/epoch - 4ms/step\n",
            "Epoch 22/30\n",
            "56/56 - 0s - loss: 0.1027 - accuracy: 0.9854 - val_loss: 0.2441 - val_accuracy: 0.9213 - 204ms/epoch - 4ms/step\n",
            "Epoch 23/30\n",
            "56/56 - 0s - loss: 0.0931 - accuracy: 0.9865 - val_loss: 0.2372 - val_accuracy: 0.9213 - 249ms/epoch - 4ms/step\n",
            "Epoch 24/30\n",
            "56/56 - 0s - loss: 0.0845 - accuracy: 0.9893 - val_loss: 0.2328 - val_accuracy: 0.9213 - 243ms/epoch - 4ms/step\n",
            "Epoch 25/30\n",
            "56/56 - 0s - loss: 0.0765 - accuracy: 0.9910 - val_loss: 0.2259 - val_accuracy: 0.9236 - 192ms/epoch - 3ms/step\n",
            "Epoch 26/30\n",
            "56/56 - 0s - loss: 0.0701 - accuracy: 0.9927 - val_loss: 0.2239 - val_accuracy: 0.9191 - 203ms/epoch - 4ms/step\n",
            "Epoch 27/30\n",
            "56/56 - 0s - loss: 0.0634 - accuracy: 0.9921 - val_loss: 0.2243 - val_accuracy: 0.9191 - 207ms/epoch - 4ms/step\n",
            "Epoch 28/30\n",
            "56/56 - 0s - loss: 0.0586 - accuracy: 0.9927 - val_loss: 0.2220 - val_accuracy: 0.9213 - 238ms/epoch - 4ms/step\n",
            "Epoch 29/30\n",
            "56/56 - 0s - loss: 0.0535 - accuracy: 0.9938 - val_loss: 0.2195 - val_accuracy: 0.9213 - 188ms/epoch - 3ms/step\n",
            "Epoch 30/30\n",
            "56/56 - 0s - loss: 0.0485 - accuracy: 0.9961 - val_loss: 0.2162 - val_accuracy: 0.9213 - 205ms/epoch - 4ms/step\n"
          ]
        }
      ]
    },
    {
      "cell_type": "code",
      "source": [
        "#Plotting Model Training History to see whether we have overfitting problem or not\n",
        "import matplotlib.pyplot as plt\n",
        "\n",
        "def plot_graphs(history, string): #plot function\n",
        "  plt.plot(history.history[string])\n",
        "  plt.plot(history.history['val_'+string])\n",
        "  plt.xlabel(\"Epochs\")\n",
        "  plt.ylabel(string)\n",
        "  plt.legend([string, 'val_'+string])\n",
        "  plt.show()\n",
        "\n",
        "plot_graphs(history, \"accuracy\") #plotting accuracy \n",
        "plot_graphs(history, \"loss\") #plotting loss\n"
      ],
      "metadata": {
        "colab": {
          "base_uri": "https://localhost:8080/",
          "height": 541
        },
        "id": "4nkP9a-exUGK",
        "outputId": "cf34e612-4a44-4357-a991-6db3248b5bb4"
      },
      "execution_count": 21,
      "outputs": [
        {
          "output_type": "display_data",
          "data": {
            "text/plain": [
              "<Figure size 432x288 with 1 Axes>"
            ],
            "image/png": "[encoded data removed]"
          },
          "metadata": {
            "needs_background": "light"
          }
        },
        {
          "output_type": "display_data",
          "data": {
            "text/plain": [
              "<Figure size 432x288 with 1 Axes>"
            ],
            "image/png": "[encoded data removed]"
          },
          "metadata": {
            "needs_background": "light"
          }
        }
      ]
    }
  ]
}