{
  "nbformat": 4,
  "nbformat_minor": 0,
  "metadata": {
    "colab": {
      "provenance": [],
      "authorship_tag": "ABX9TyP9aL1ICW1EOGppjZ7pSjDa",
      "include_colab_link": true
    },
    "kernelspec": {
      "name": "python3",
      "display_name": "Python 3"
    },
    "language_info": {
      "name": "python"
    }
  },
  "cells": [
    {
      "cell_type": "markdown",
      "metadata": {
        "id": "view-in-github",
        "colab_type": "text"
      },
      "source": [
        "<a href=\"https://colab.research.google.com/github/AyaTareekAhmmeed/Deep-Neural-Network/blob/main/Word_Embeddings_example_using_IMDb_dataset.ipynb\" target=\"_parent\"><img src=\"https://colab.research.google.com/assets/colab-badge.svg\" alt=\"Open In Colab\"/></a>"
      ]
    },
    {
      "cell_type": "markdown",
      "source": [
        "A potential drawback with one-hot encoded feature vector approaches such as N-Grams, bag of words and TF-IDF approach is that the feature vector for each document can be huge.\n",
        "For instance, if you have a half million unique words in your corpus and you want to represent a sentence that contains 10 words, your feature vector will be a half million dimensional one-hot encoded vector where only 10 indexes will have 1.\n",
        "This is a wastage of space and increases algorithm complexity exponentially resulting in the curse of dimentionality.\n",
        "In word embeddings, every word is represented as an n-dimensional dense vector. The words that are similar will have similar vector.\n",
        "Word embeddings techniques such as GloVe and Word2Vec have proven to be extremely efficient for converting words into corresponding dense vectors. \n",
        "The vector size is small and none of the indexes in the vector is actually empty.\n",
        "the Keras library contains a layer called Embedding(). \n",
        "The embedding layer is implemented in the form of a class in Keras and is normally used as a first layer in the sequential model for NLP tasks.\n"
      ],
      "metadata": {
        "id": "Mjz2Yuajv1ub"
      }
    },
    {
      "cell_type": "code",
      "source": [
        "import pandas as pd\n",
        "import numpy as np\n",
        "import re\n",
        "import nltk\n",
        "from nltk.corpus import stopwords\n",
        "from numpy import array\n",
        "from keras.preprocessing.text import one_hot\n",
        "from keras_preprocessing.sequence import pad_sequences\n",
        "from keras.models import Sequential\n",
        "from keras.layers.core import Activation, Dropout, Dense\n",
        "from keras.layers import Flatten\n",
        "from keras.layers import GlobalMaxPooling1D\n",
        "from tensorflow.keras.layers import Embedding\n",
        "from sklearn.model_selection import train_test_split\n",
        "from keras.preprocessing.text import Tokenizer"
      ],
      "metadata": {
        "id": "EJDsZ8jDwCWz"
      },
      "execution_count": 1,
      "outputs": []
    },
    {
      "cell_type": "code",
      "source": [
        "#Let's now import and analyze our dataset\n",
        "movie_reviews =pd.read_csv(\"/content/IMDB Dataset.csv\",engine='python', error_bad_lines=False) \n",
        "\n",
        "\n",
        "movie_reviews.isnull().values.any()\n",
        "movie_reviews.shape"
      ],
      "metadata": {
        "colab": {
          "base_uri": "https://localhost:8080/"
        },
        "id": "hRFzHLAhwnBU",
        "outputId": "712dbe2f-64ab-4ded-96d0-7589f0258140"
      },
      "execution_count": 11,
      "outputs": [
        {
          "output_type": "stream",
          "name": "stderr",
          "text": [
            "/usr/local/lib/python3.8/dist-packages/IPython/core/interactiveshell.py:3326: FutureWarning: The error_bad_lines argument has been deprecated and will be removed in a future version.\n",
            "\n",
            "\n",
            "  exec(code_obj, self.user_global_ns, self.user_ns)\n"
          ]
        },
        {
          "output_type": "execute_result",
          "data": {
            "text/plain": [
              "(50000, 2)"
            ]
          },
          "metadata": {},
          "execution_count": 11
        }
      ]
    },
    {
      "cell_type": "markdown",
      "source": [
        "As a first step, we will use the Tokenizer class from the keras.preprocessing.text module to create a word-to-index dictionary. In the word-to-index dictionary, each word in the corpus is used as a key, while a corresponding unique index is used as the value for the key."
      ],
      "metadata": {
        "id": "L1ZLo9aSegbU"
      }
    },
    {
      "cell_type": "code",
      "source": [
        "movie_reviews.head()"
      ],
      "metadata": {
        "colab": {
          "base_uri": "https://localhost:8080/",
          "height": 206
        },
        "id": "0l7NNXT8eZbL",
        "outputId": "b154c037-af39-4580-8fa6-69ea0daae9bf"
      },
      "execution_count": 12,
      "outputs": [
        {
          "output_type": "execute_result",
          "data": {
            "text/plain": [
              "                                              review sentiment\n",
              "0  One of the other reviewers has mentioned that ...  positive\n",
              "1  A wonderful little production. <br /><br />The...  positive\n",
              "2  I thought this was a wonderful way to spend ti...  positive\n",
              "3  Basically there's a family where a little boy ...  negative\n",
              "4  Petter Mattei's \"Love in the Time of Money\" is...  positive"
            ],
            "text/html": [
              "\n",
              "  <div id=\"df-a2126c3e-0649-4d0e-9dbc-3a7e930931c1\">\n",
              "    <div class=\"colab-df-container\">\n",
              "      <div>\n",
              "<style scoped>\n",
              "    .dataframe tbody tr th:only-of-type {\n",
              "        vertical-align: middle;\n",
              "    }\n",
              "\n",
              "    .dataframe tbody tr th {\n",
              "        vertical-align: top;\n",
              "    }\n",
              "\n",
              "    .dataframe thead th {\n",
              "        text-align: right;\n",
              "    }\n",
              "</style>\n",
              "<table border=\"1\" class=\"dataframe\">\n",
              "  <thead>\n",
              "    <tr style=\"text-align: right;\">\n",
              "      <th></th>\n",
              "      <th>review</th>\n",
              "      <th>sentiment</th>\n",
              "    </tr>\n",
              "  </thead>\n",
              "  <tbody>\n",
              "    <tr>\n",
              "      <th>0</th>\n",
              "      <td>One of the other reviewers has mentioned that ...</td>\n",
              "      <td>positive</td>\n",
              "    </tr>\n",
              "    <tr>\n",
              "      <th>1</th>\n",
              "      <td>A wonderful little production. &lt;br /&gt;&lt;br /&gt;The...</td>\n",
              "      <td>positive</td>\n",
              "    </tr>\n",
              "    <tr>\n",
              "      <th>2</th>\n",
              "      <td>I thought this was a wonderful way to spend ti...</td>\n",
              "      <td>positive</td>\n",
              "    </tr>\n",
              "    <tr>\n",
              "      <th>3</th>\n",
              "      <td>Basically there's a family where a little boy ...</td>\n",
              "      <td>negative</td>\n",
              "    </tr>\n",
              "    <tr>\n",
              "      <th>4</th>\n",
              "      <td>Petter Mattei's \"Love in the Time of Money\" is...</td>\n",
              "      <td>positive</td>\n",
              "    </tr>\n",
              "  </tbody>\n",
              "</table>\n",
              "</div>\n",
              "      <button class=\"colab-df-convert\" onclick=\"convertToInteractive('df-a2126c3e-0649-4d0e-9dbc-3a7e930931c1')\"\n",
              "              title=\"Convert this dataframe to an interactive table.\"\n",
              "              style=\"display:none;\">\n",
              "        \n",
              "  <svg xmlns=\"http://www.w3.org/2000/svg\" height=\"24px\"viewBox=\"0 0 24 24\"\n",
              "       width=\"24px\">\n",
              "    <path d=\"M0 0h24v24H0V0z\" fill=\"none\"/>\n",
              "    <path d=\"M18.56 5.44l.94 2.06.94-2.06 2.06-.94-2.06-.94-.94-2.06-.94 2.06-2.06.94zm-11 1L8.5 8.5l.94-2.06 2.06-.94-2.06-.94L8.5 2.5l-.94 2.06-2.06.94zm10 10l.94 2.06.94-2.06 2.06-.94-2.06-.94-.94-2.06-.94 2.06-2.06.94z\"/><path d=\"M17.41 7.96l-1.37-1.37c-.4-.4-.92-.59-1.43-.59-.52 0-1.04.2-1.43.59L10.3 9.45l-7.72 7.72c-.78.78-.78 2.05 0 2.83L4 21.41c.39.39.9.59 1.41.59.51 0 1.02-.2 1.41-.59l7.78-7.78 2.81-2.81c.8-.78.8-2.07 0-2.86zM5.41 20L4 18.59l7.72-7.72 1.47 1.35L5.41 20z\"/>\n",
              "  </svg>\n",
              "      </button>\n",
              "      \n",
              "  <style>\n",
              "    .colab-df-container {\n",
              "      display:flex;\n",
              "      flex-wrap:wrap;\n",
              "      gap: 12px;\n",
              "    }\n",
              "\n",
              "    .colab-df-convert {\n",
              "      background-color: #E8F0FE;\n",
              "      border: none;\n",
              "      border-radius: 50%;\n",
              "      cursor: pointer;\n",
              "      display: none;\n",
              "      fill: #1967D2;\n",
              "      height: 32px;\n",
              "      padding: 0 0 0 0;\n",
              "      width: 32px;\n",
              "    }\n",
              "\n",
              "    .colab-df-convert:hover {\n",
              "      background-color: #E2EBFA;\n",
              "      box-shadow: 0px 1px 2px rgba(60, 64, 67, 0.3), 0px 1px 3px 1px rgba(60, 64, 67, 0.15);\n",
              "      fill: #174EA6;\n",
              "    }\n",
              "\n",
              "    [theme=dark] .colab-df-convert {\n",
              "      background-color: #3B4455;\n",
              "      fill: #D2E3FC;\n",
              "    }\n",
              "\n",
              "    [theme=dark] .colab-df-convert:hover {\n",
              "      background-color: #434B5C;\n",
              "      box-shadow: 0px 1px 3px 1px rgba(0, 0, 0, 0.15);\n",
              "      filter: drop-shadow(0px 1px 2px rgba(0, 0, 0, 0.3));\n",
              "      fill: #FFFFFF;\n",
              "    }\n",
              "  </style>\n",
              "\n",
              "      <script>\n",
              "        const buttonEl =\n",
              "          document.querySelector('#df-a2126c3e-0649-4d0e-9dbc-3a7e930931c1 button.colab-df-convert');\n",
              "        buttonEl.style.display =\n",
              "          google.colab.kernel.accessAllowed ? 'block' : 'none';\n",
              "\n",
              "        async function convertToInteractive(key) {\n",
              "          const element = document.querySelector('#df-a2126c3e-0649-4d0e-9dbc-3a7e930931c1');\n",
              "          const dataTable =\n",
              "            await google.colab.kernel.invokeFunction('convertToInteractive',\n",
              "                                                     [key], {});\n",
              "          if (!dataTable) return;\n",
              "\n",
              "          const docLinkHtml = 'Like what you see? Visit the ' +\n",
              "            '<a target=\"_blank\" href=https://colab.research.google.com/notebooks/data_table.ipynb>data table notebook</a>'\n",
              "            + ' to learn more about interactive tables.';\n",
              "          element.innerHTML = '';\n",
              "          dataTable['output_type'] = 'display_data';\n",
              "          await google.colab.output.renderOutput(dataTable, element);\n",
              "          const docLink = document.createElement('div');\n",
              "          docLink.innerHTML = docLinkHtml;\n",
              "          element.appendChild(docLink);\n",
              "        }\n",
              "      </script>\n",
              "    </div>\n",
              "  </div>\n",
              "  "
            ]
          },
          "metadata": {},
          "execution_count": 12
        }
      ]
    },
    {
      "cell_type": "code",
      "source": [
        "#plotting data\n",
        "import seaborn as s\n",
        "\n",
        "s.countplot(x='sentiment', data=movie_reviews)"
      ],
      "metadata": {
        "colab": {
          "base_uri": "https://localhost:8080/",
          "height": 296
        },
        "id": "52qykBPYfpl4",
        "outputId": "042c2c59-f529-4475-f6b2-22212f6bed57"
      },
      "execution_count": 13,
      "outputs": [
        {
          "output_type": "execute_result",
          "data": {
            "text/plain": [
              "<matplotlib.axes._subplots.AxesSubplot at 0x7f268869fee0>"
            ]
          },
          "metadata": {},
          "execution_count": 13
        },
        {
          "output_type": "display_data",
          "data": {
            "text/plain": [
              "<Figure size 432x288 with 1 Axes>"
            ],
            "image/png": "[encoded data removed]"
          },
          "metadata": {
            "needs_background": "light"
          }
        }
      ]
    },
    {
      "cell_type": "markdown",
      "source": [
        "From the output, it is clear that the dataset contains equal number of positive and negative reviews"
      ],
      "metadata": {
        "id": "AfaiqlYlf02j"
      }
    },
    {
      "cell_type": "code",
      "source": [
        "#1st stage : Data Preprocessing and cleaning we nwwd to clean data to be able to make sentiment analysis on it this is done by removing all special characters from our  dataset\n",
        "#we will define a function that takes a text string as a parameter and then performs preprocessing on the string to remove special characters \n",
        "def preprocess_text(sen):\n",
        "  # Removing html tags\n",
        "  sentence = remove_tags(sen)\n",
        "\n",
        "  # Remove punctuations and numbers\n",
        "  sentence = re.sub('[^a-zA-Z]', ' ', sentence)\n",
        "\n",
        "  # Single character removal\n",
        "  sentence = re.sub(r\"\\\\s+[a-zA-Z]\\\\s+\", ' ', sentence)\n",
        "\n",
        "  # Removing multiple spaces to avoid hold incoding vector\"word embedding\"\n",
        "  sentence = re.sub(r'\\\\s+', ' ', sentence)\n",
        "\n",
        "  return sentence"
      ],
      "metadata": {
        "id": "s60ClImUdV5O"
      },
      "execution_count": 14,
      "outputs": []
    },
    {
      "cell_type": "code",
      "source": [
        "#remove tags\n",
        "TAG_RE = re.compile(r'<[^>]+>')\n",
        "\n",
        "def remove_tags(text):\n",
        "  return TAG_RE.sub('', text)"
      ],
      "metadata": {
        "id": "JtF-iSI5f98R"
      },
      "execution_count": 15,
      "outputs": []
    },
    {
      "cell_type": "code",
      "source": [
        "review = []\n",
        "sentences = list(movie_reviews['review'])\n",
        "\n",
        "for sen in sentences:\n",
        "   review.append(preprocess_text(sen))\n",
        "\n",
        "print(review[4]) #we can see that all special characters are removed \"it produces very clean text\""
      ],
      "metadata": {
        "colab": {
          "base_uri": "https://localhost:8080/"
        },
        "id": "-oa_LWQugMYu",
        "outputId": "8ac00c47-3c93-4029-a5da-177dee70630c"
      },
      "execution_count": 16,
      "outputs": [
        {
          "output_type": "stream",
          "name": "stdout",
          "text": [
            "Petter Mattei s  Love in the Time of Money  is a visually stunning film to watch  Mr  Mattei offers us a vivid portrait about human relations  This is a movie that seems to be telling us what money  power and success do to people in the different situations we encounter  This being a variation on the Arthur Schnitzler s play about the same theme  the director transfers the action to the present time New York where all these different characters meet and connect  Each one is connected in one way  or another to the next person  but no one seems to know the previous point of contact  Stylishly  the film has a sophisticated luxurious look  We are taken to see how these people live and the world they live in their own habitat The only thing one gets out of all these souls in the picture is the different stages of loneliness each one inhabits  A big city is not exactly the best place in which human relations find sincere fulfillment  as one discerns is the case with most of the people we encounter The acting is good under Mr  Mattei s direction  Steve Buscemi  Rosario Dawson  Carol Kane  Michael Imperioli  Adrian Grenier  and the rest of the talented cast  make these characters come alive We wish Mr  Mattei good luck and await anxiously for his next work \n"
          ]
        }
      ]
    },
    {
      "cell_type": "markdown",
      "source": [
        "Next Step convert our labels into integers. Since we only have two labels in the output i.e. \"positive\" and \"negative\". convert them into integers by replacing \"positive\" --> 1 and negative --> 0 as shown below:"
      ],
      "metadata": {
        "id": "-VfwuJtDgubG"
      }
    },
    {
      "cell_type": "code",
      "source": [
        "converted = movie_reviews['sentiment'] #sentiment is our parameter that contain positive and negative \n",
        "\n",
        "converted = np.array(list(map(lambda x: 1 if x==\"positive\" else 0, converted))) #noe we are going to deal with reviews and converted "
      ],
      "metadata": {
        "id": "e3PPKLjQgfv9"
      },
      "execution_count": 17,
      "outputs": []
    },
    {
      "cell_type": "markdown",
      "source": [
        "we need to divide our dataset into train and test sets. The train set will be used to train our deep learning models and it contains of our reviews after cleaning and our converted data, while the test set will be used to evaluate how well our model performs.\n"
      ],
      "metadata": {
        "id": "CBRejek1hJwd"
      }
    },
    {
      "cell_type": "code",
      "source": [
        "review_train, review_test, converted_train, converted_test = train_test_split(review, converted, test_size=0.20, random_state=42)"
      ],
      "metadata": {
        "id": "atl6HuN8hBhL"
      },
      "execution_count": 18,
      "outputs": []
    },
    {
      "cell_type": "markdown",
      "source": [
        "let's now write the script for our embedding layer. The embedding layer converts our textual data into numeric data and is used as the first layer for the deep learning models in Keras."
      ],
      "metadata": {
        "id": "8oe2XSyIhVJX"
      }
    },
    {
      "cell_type": "code",
      "source": [
        "#Tokenizer class from the keras.preprocessing.text module to create a word-to-index dictionary. In the word-to-index dictionary, each word in the corpus is used as a key, while a corresponding unique index is used as the value for the key.\n",
        "tokenizer = Tokenizer(num_words=5000)\n",
        "tokenizer.fit_on_texts(review_train)\n",
        "\n",
        "review_train = tokenizer.texts_to_sequences(review_train)\n",
        "review_test = tokenizer.texts_to_sequences(review_test)"
      ],
      "metadata": {
        "id": "4Hj5rHlRhUZl"
      },
      "execution_count": 19,
      "outputs": []
    },
    {
      "cell_type": "markdown",
      "source": [
        "We set the maximum size of each list to 100. You can try a different size. The lists with size greater than 100 will be truncated to 100. For the lists that have length less than 100, we will add 0 at the end of the list until it reaches the max length. This process is called padding."
      ],
      "metadata": {
        "id": "CDV3ABi2hxJJ"
      }
    },
    {
      "cell_type": "code",
      "source": [
        "vocab_size = len(tokenizer.word_index) + 1 #+ 1 cuz our indexes start with 0\n",
        "\n",
        "maxlen = 100\n",
        "\n",
        "review_train = pad_sequences(review_train, padding='post', maxlen=maxlen)\n",
        "review_test = pad_sequences(review_test, padding='post', maxlen=maxlen)"
      ],
      "metadata": {
        "id": "DlhYAmZjhr2v"
      },
      "execution_count": 20,
      "outputs": []
    },
    {
      "cell_type": "markdown",
      "source": [
        "if you see review_train and review_test all the lists have same length i.e. 100. Also, the vocabulary_size variable now contains a value 92547 which means that our corpus has 92547 unique words."
      ],
      "metadata": {
        "id": "oHT_6GYxiEUZ"
      }
    },
    {
      "cell_type": "code",
      "source": [
        "#GloVe embeddings used for mapping each word with some vector cuz it contains keys for most English word\n",
        "#we will use GloVe embeddings to create our feature matrix.GloVe embeddings gives weight for each unique word. In the following script we load the GloVe word embeddings and create a dictionary that will contain words as keys and their corresponding embedding list as values.\n",
        "from numpy import array\n",
        "from numpy import asarray\n",
        "from numpy import zeros\n",
        "\n",
        "embeddings_dictionary = dict()\n",
        "glove_file = open(\"/content/glove.6B.100d.txt\", encoding=\"utf8\")\n",
        "\n",
        "for line in glove_file:\n",
        "   records = line.split()\n",
        "   word = records[0]\n",
        "   vector_dimensions = asarray(records[1:], dtype='float32') #dtype='float32' cuz our data in range -1:1\n",
        "   embeddings_dictionary [word] = vector_dimensions\n",
        "glove_file.close()"
      ],
      "metadata": {
        "id": "SpwwY0GNh-8p"
      },
      "execution_count": 24,
      "outputs": []
    },
    {
      "cell_type": "code",
      "source": [
        "#Finally, we will create an embedding matrix where each row number will correspond to the index of the word in the corpus. The matrix will have 100 columns where each column will contain the GloVe word embeddings for the words in our corpus.\n",
        "embedding_matrix = zeros((vocab_size, 100)) #100 num of columns \n",
        "for word, index in tokenizer.word_index.items():\n",
        "  embedding_vector = embeddings_dictionary.get(word)\n",
        "  if embedding_vector is not None:\n",
        "     embedding_matrix[index] = embedding_vector"
      ],
      "metadata": {
        "id": "xReSrrNcqVWm"
      },
      "execution_count": 25,
      "outputs": []
    },
    {
      "cell_type": "code",
      "source": [
        "#create model\n",
        "from keras.layers import LSTM\n",
        "\n",
        "model = Sequential()\n",
        "embedding_layer = Embedding(vocab_size, 100, weights=[embedding_matrix], input_length=maxlen , trainable=False)#100 our dimensions & ourb model is not trainable \n",
        "model.add(embedding_layer) #embedding is our first layer\n",
        "model.add(LSTM(128)) #128 num of Dense neurons \n",
        "\n",
        "model.add(Dense(1, activation='sigmoid')) #1 neuron cuz it is whether positive or negative & activation='sigmoid' cuz it is last layer &\n",
        "model.summary()\n",
        "model.compile(optimizer='adam', loss='binary_crossentropy', metrics=['acc'])"
      ],
      "metadata": {
        "colab": {
          "base_uri": "https://localhost:8080/"
        },
        "id": "F22wPaBcsDJa",
        "outputId": "906a1983-bda2-433c-ff3e-3945124a6fa0"
      },
      "execution_count": 26,
      "outputs": [
        {
          "output_type": "stream",
          "name": "stdout",
          "text": [
            "Model: \"sequential\"\n",
            "_________________________________________________________________\n",
            " Layer (type)                Output Shape              Param #   \n",
            "=================================================================\n",
            " embedding (Embedding)       (None, 100, 100)          9254700   \n",
            "                                                                 \n",
            " lstm (LSTM)                 (None, 128)               117248    \n",
            "                                                                 \n",
            " dense (Dense)               (None, 1)                 129       \n",
            "                                                                 \n",
            "=================================================================\n",
            "Total params: 9,372,077\n",
            "Trainable params: 117,377\n",
            "Non-trainable params: 9,254,700\n",
            "_________________________________________________________________\n"
          ]
        }
      ]
    },
    {
      "cell_type": "markdown",
      "source": [
        "Trainable params: 117,377 cuz we only train LSTM not Embedding layers."
      ],
      "metadata": {
        "id": "lqIDED8Uu0NX"
      }
    },
    {
      "cell_type": "markdown",
      "source": [
        "we create a Sequential model and add the Embedding layer as the first layer to the model. The length of the vocabulary is specified by the vocab_length parameter. The dimension of each word vector will be 20 and the input_length will be the length of the longest sentence, which is 300. Next, the Embedding layer is flattened so that it can be directly used with the densely connected layer. Since it is a binary classification problem, we use the sigmoid function as the loss function at the dense layer."
      ],
      "metadata": {
        "id": "_9cTRLD1yfyv"
      }
    },
    {
      "cell_type": "code",
      "source": [
        "model.compile(optimizer='adam', loss='binary_crossentropy', metrics=['acc'])\n",
        "print(model.summary())"
      ],
      "metadata": {
        "colab": {
          "base_uri": "https://localhost:8080/"
        },
        "id": "rO63C2YNyM1J",
        "outputId": "5b763397-499d-4ad9-f903-9a429c0738ca"
      },
      "execution_count": 7,
      "outputs": [
        {
          "output_type": "stream",
          "name": "stdout",
          "text": [
            "Model: \"sequential_2\"\n",
            "_________________________________________________________________\n",
            " Layer (type)                Output Shape              Param #   \n",
            "=================================================================\n",
            " embedding (Embedding)       (None, 300, 1, 20)        1000      \n",
            "                                                                 \n",
            " flatten (Flatten)           (None, 6000)              0         \n",
            "                                                                 \n",
            " dense (Dense)               (None, 1)                 6001      \n",
            "                                                                 \n",
            "=================================================================\n",
            "Total params: 7,001\n",
            "Trainable params: 7,001\n",
            "Non-trainable params: 0\n",
            "_________________________________________________________________\n",
            "None\n"
          ]
        }
      ]
    },
    {
      "cell_type": "code",
      "source": [
        "history = model.fit(review_train, converted_train, batch_size=128, epochs=10, verbose=1, validation_split=0.2)\n",
        "\n",
        "score = model.evaluate(review_test, converted_test, verbose=1)"
      ],
      "metadata": {
        "colab": {
          "base_uri": "https://localhost:8080/"
        },
        "id": "zQYkidqdy15R",
        "outputId": "2b24c594-59ca-452a-c81a-3c8928682ca6"
      },
      "execution_count": 27,
      "outputs": [
        {
          "output_type": "stream",
          "name": "stdout",
          "text": [
            "Epoch 1/10\n",
            "250/250 [==============================] - 77s 300ms/step - loss: 0.5853 - acc: 0.6894 - val_loss: 0.5051 - val_acc: 0.7592\n",
            "Epoch 2/10\n",
            "250/250 [==============================] - 71s 285ms/step - loss: 0.4747 - acc: 0.7757 - val_loss: 0.4680 - val_acc: 0.7900\n",
            "Epoch 3/10\n",
            "250/250 [==============================] - 87s 347ms/step - loss: 0.4263 - acc: 0.8032 - val_loss: 0.4123 - val_acc: 0.8044\n",
            "Epoch 4/10\n",
            "250/250 [==============================] - 79s 314ms/step - loss: 0.3937 - acc: 0.8227 - val_loss: 0.3792 - val_acc: 0.8230\n",
            "Epoch 5/10\n",
            "250/250 [==============================] - 83s 331ms/step - loss: 0.3691 - acc: 0.8351 - val_loss: 0.3915 - val_acc: 0.8210\n",
            "Epoch 6/10\n",
            "250/250 [==============================] - 78s 313ms/step - loss: 0.3465 - acc: 0.8471 - val_loss: 0.3685 - val_acc: 0.8436\n",
            "Epoch 7/10\n",
            "250/250 [==============================] - 73s 293ms/step - loss: 0.3278 - acc: 0.8560 - val_loss: 0.3686 - val_acc: 0.8345\n",
            "Epoch 8/10\n",
            "250/250 [==============================] - 71s 283ms/step - loss: 0.3150 - acc: 0.8639 - val_loss: 0.3645 - val_acc: 0.8443\n",
            "Epoch 9/10\n",
            "250/250 [==============================] - 72s 289ms/step - loss: 0.2994 - acc: 0.8707 - val_loss: 0.3514 - val_acc: 0.8453\n",
            "Epoch 10/10\n",
            "250/250 [==============================] - 92s 370ms/step - loss: 0.2776 - acc: 0.8810 - val_loss: 0.3457 - val_acc: 0.8511\n",
            "313/313 [==============================] - 15s 48ms/step - loss: 0.3493 - acc: 0.8511\n"
          ]
        }
      ]
    },
    {
      "cell_type": "code",
      "source": [
        "print(\"Test Score:\", score[0])\n",
        "print(\"Test Accuracy:\", score[1])"
      ],
      "metadata": {
        "colab": {
          "base_uri": "https://localhost:8080/"
        },
        "id": "Cfs1pQsBwQLk",
        "outputId": "97bc6492-83c8-4888-8160-d03cddec9eed"
      },
      "execution_count": 28,
      "outputs": [
        {
          "output_type": "stream",
          "name": "stdout",
          "text": [
            "Test Score: 0.34930741786956787\n",
            "Test Accuracy: 0.8511000275611877\n"
          ]
        }
      ]
    },
    {
      "cell_type": "code",
      "source": [
        "#using some real random data from our dataset to test our model\n",
        "instance = review[10]\n",
        "print(instance)"
      ],
      "metadata": {
        "colab": {
          "base_uri": "https://localhost:8080/"
        },
        "id": "nPtjNp57wVbf",
        "outputId": "7d5c371f-af33-48e5-838b-3ec22a904a0d"
      },
      "execution_count": 33,
      "outputs": [
        {
          "output_type": "stream",
          "name": "stdout",
          "text": [
            "Phil the Alien is one of those quirky films where the humour is based around the oddness of everything rather than actual punchlines At first it was very odd and pretty funny but as the movie progressed I didn t find the jokes or oddness funny anymore Its a low budget film  thats never a problem in itself   there were some pretty interesting characters  but eventually I just lost interest I imagine this film would appeal to a stoner who is currently partaking For something similar but better try  Brother from another planet \n"
          ]
        }
      ]
    },
    {
      "cell_type": "markdown",
      "source": [
        "To predict the sentiment of this review, we have to convert this review into numeric form. We can do so using the tokenizer that we created in word embedding section. The text_to_sequences method will convert the sentence into its numeric counter part.\\n\", \"\\n\", \"Next, we need to pad our input sequence as we did for our corpus. Finally, we can use the predict method of our model and pass it our processed input sequence."
      ],
      "metadata": {
        "id": "z_Sv1-PDwv_Q"
      }
    },
    {
      "cell_type": "code",
      "source": [
        "instance = tokenizer.texts_to_sequences(instance)\n",
        "\n",
        "flat_list = [] #var to save our operations in it\n",
        "for sublist in instance:\n",
        "   for item in sublist:\n",
        "     flat_list.append(item)\n",
        "     \n",
        "flat_list = [flat_list]\n",
        "\n",
        "instance = pad_sequences(flat_list, padding='post', maxlen=maxlen)\n",
        "\n",
        "model.predict(instance)"
      ],
      "metadata": {
        "colab": {
          "base_uri": "https://localhost:8080/"
        },
        "id": "uiXDEk7Hw0L-",
        "outputId": "9ad73687-2c7a-4647-dcbf-34175e8abaa3"
      },
      "execution_count": 34,
      "outputs": [
        {
          "output_type": "stream",
          "name": "stdout",
          "text": [
            "1/1 [==============================] - 0s 24ms/step\n"
          ]
        },
        {
          "output_type": "execute_result",
          "data": {
            "text/plain": [
              "array([[0.7333697]], dtype=float32)"
            ]
          },
          "metadata": {},
          "execution_count": 34
        }
      ]
    },
    {
      "cell_type": "markdown",
      "source": [
        "Remember, we mapped the positive outputs to 1 and the negative outputs to 0. However, the sigmoid function predicts floating value between 0 and 1. If the value is less than 0.5, the sentiment is considered negative where as if the value is greater than 0.5, the sentiment is considered as positive."
      ],
      "metadata": {
        "id": "mSdl_1SjxoDG"
      }
    },
    {
      "cell_type": "code",
      "source": [
        "import matplotlib.pyplot as plt\n",
        "\n",
        "plt.plot(history.history['acc'])\n",
        "plt.plot(history.history['val_acc'])\n",
        "\n",
        "plt.title('model accuracy')\n",
        "plt.ylabel('accuracy')\n",
        "plt.xlabel('epoch')\n",
        "plt.legend(['train','test'], loc='upper left')\n",
        "plt.show()\n",
        "\n",
        "plt.plot(history.history['loss'])\n",
        "plt.plot(history.history['val_loss'])"
      ],
      "metadata": {
        "colab": {
          "base_uri": "https://localhost:8080/",
          "height": 564
        },
        "id": "zHAokpoHyWTi",
        "outputId": "a029e1bf-8f01-4d94-858b-269e409b6654"
      },
      "execution_count": 35,
      "outputs": [
        {
          "output_type": "display_data",
          "data": {
            "text/plain": [
              "<Figure size 432x288 with 1 Axes>"
            ],
            "image/png": "[encoded data removed]"
          },
          "metadata": {
            "needs_background": "light"
          }
        },
        {
          "output_type": "execute_result",
          "data": {
            "text/plain": [
              "[<matplotlib.lines.Line2D at 0x7f26823e2a90>]"
            ]
          },
          "metadata": {},
          "execution_count": 35
        },
        {
          "output_type": "display_data",
          "data": {
            "text/plain": [
              "<Figure size 432x288 with 1 Axes>"
            ],
            "image/png": "[encoded data removed]"
          },
          "metadata": {
            "needs_background": "light"
          }
        }
      ]
    },
    {
      "cell_type": "code",
      "source": [
        "#saving model to reuse its weights\n",
        "model.save(\"Word_Embeddings_modelh5.h5\")\n",
        "print('saved')"
      ],
      "metadata": {
        "colab": {
          "base_uri": "https://localhost:8080/"
        },
        "id": "OFMf9qk_zbla",
        "outputId": "35ca7c57-db59-4939-ed2f-84178ded9306"
      },
      "execution_count": 36,
      "outputs": [
        {
          "output_type": "stream",
          "name": "stdout",
          "text": [
            "saved\n"
          ]
        }
      ]
    }
  ]
}