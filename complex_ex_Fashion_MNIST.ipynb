{
  "nbformat": 4,
  "nbformat_minor": 0,
  "metadata": {
    "colab": {
      "provenance": [],
      "authorship_tag": "ABX9TyPYE9Mc9LvqYxqQML+s2kS9",
      "include_colab_link": true
    },
    "kernelspec": {
      "name": "python3",
      "display_name": "Python 3"
    },
    "language_info": {
      "name": "python"
    },
    "accelerator": "GPU",
    "gpuClass": "standard"
  },
  "cells": [
    {
      "cell_type": "markdown",
      "metadata": {
        "id": "view-in-github",
        "colab_type": "text"
      },
      "source": [
        "<a href=\"https://colab.research.google.com/github/AyaTareekAhmmeed/Deep-Neural-Network/blob/main/complex_ex_Fashion_MNIST.ipynb\" target=\"_parent\"><img src=\"https://colab.research.google.com/assets/colab-badge.svg\" alt=\"Open In Colab\"/></a>"
      ]
    },
    {
      "cell_type": "code",
      "execution_count": 17,
      "metadata": {
        "id": "UOuQraRIpbha"
      },
      "outputs": [],
      "source": [
        "from __future__ import print_function\n",
        "import keras\n",
        "from keras.datasets import mnist\n",
        "from keras.models import Sequential\n",
        "from keras.layers import Dense, Dropout, Flatten\n",
        "from keras.layers import Conv2D , MaxPool2D, Convolution2D #for CNN\n",
        "from keras import backend as k"
      ]
    },
    {
      "cell_type": "code",
      "source": [
        "batch_size = 128 #split training data into n batches for higher performance \n",
        "num_classes = 10 #num of classes on dataset 'based on dataset'\n",
        "epochs = 12 #one forward%backward pass of all training examples"
      ],
      "metadata": {
        "id": "xuYuPORMrv37"
      },
      "execution_count": 18,
      "outputs": []
    },
    {
      "cell_type": "code",
      "source": [
        "img_rows, img_cols = 28,28 #depend on size of image in your dataset\n",
        "(x_train,y_train),(x_test,y_test) = mnist.load_data()"
      ],
      "metadata": {
        "id": "pKTboQtKs7lE"
      },
      "execution_count": 19,
      "outputs": []
    },
    {
      "cell_type": "code",
      "source": [
        "if k.image_data_format()=='channels_first':\n",
        "  x_train = x_train.reshape(x_train.shape[0],1,img_rows,img_cols) #1 mean chanel 1 'grey scale'\n",
        "  x_test = x_test.reshape(x_test.shape[0],1,img_rows,img_cols)\n",
        "  input_shape = (1,img_rows,img_cols)\n",
        "\n",
        "else:\n",
        "  x_train = x_train.reshape(x_train.shape[0],1,img_rows,img_cols)\n",
        "  x_test = x_test.reshape(x_test.shape[0],1,img_rows,img_cols)\n",
        "  input_shape = (1,img_rows,img_cols)\n",
        "\n",
        "#normalization\n",
        "x_train = x_train/255.0\n",
        "x_test = x_test/255.0\n",
        "print('x_train shape',x_train.shape)\n",
        "print('x_test shape',x_test.shape)"
      ],
      "metadata": {
        "colab": {
          "base_uri": "https://localhost:8080/"
        },
        "id": "EU-13zzktSAC",
        "outputId": "8f68509f-6fe9-4652-eeae-13f7c7a1e0e7"
      },
      "execution_count": 20,
      "outputs": [
        {
          "output_type": "stream",
          "name": "stdout",
          "text": [
            "x_train shape (60000, 1, 28, 28)\n",
            "x_test shape (10000, 1, 28, 28)\n"
          ]
        }
      ]
    },
    {
      "cell_type": "code",
      "source": [
        "#convert class vectors to binary class matrices\n",
        "#in classification it is better to convert to binary cuz it is more organized \n",
        "y_train = keras.utils.to_categorical(y_train,num_classes)\n",
        "y_test = keras.utils.to_categorical(y_test,num_classes)"
      ],
      "metadata": {
        "id": "JIZprhA8v1MQ"
      },
      "execution_count": 21,
      "outputs": []
    },
    {
      "cell_type": "code",
      "source": [
        "model = Sequential()\n",
        "model.add(Conv2D(32, kernel_size=(3, 3),activation='relu', input_shape=input_shape, data_format='channels_first')) #32 num of layers &data_format='channels_first' to avoid ValueError: One of the dimensions in the output is <= 0\n",
        "model.add(Conv2D(64, (3,3),activation='relu'))\n",
        "model.add(MaxPool2D(pool_size=(2,2))) #MaxPool only take poolsize()\n",
        "#must use pooling after convolution to take maximun pixels \n",
        "\n",
        "model.add(Flatten()) #use flatten to avoid convolution errors in dimensions\n",
        "#Dense is connected neuron layer\n",
        "model.add(Dense(128, activation='relu')) #128 is num of neurons \n",
        "\n",
        "#in output layer num of neuron must be equal = num of output classes \n",
        "model.add(Dense(num_classes, activation='softmax'))  #activation='softmax' for output layer to make binary classification \n",
        "model.summary()"
      ],
      "metadata": {
        "colab": {
          "base_uri": "https://localhost:8080/"
        },
        "id": "wM6LDY2avYc6",
        "outputId": "1bb29b73-b0a3-4475-ef8b-23843d583183"
      },
      "execution_count": 22,
      "outputs": [
        {
          "output_type": "stream",
          "name": "stdout",
          "text": [
            "Model: \"sequential_6\"\n",
            "_________________________________________________________________\n",
            " Layer (type)                Output Shape              Param #   \n",
            "=================================================================\n",
            " conv2d_4 (Conv2D)           (None, 32, 26, 26)        320       \n",
            "                                                                 \n",
            " conv2d_5 (Conv2D)           (None, 30, 24, 64)        15040     \n",
            "                                                                 \n",
            " max_pooling2d_1 (MaxPooling  (None, 15, 12, 64)       0         \n",
            " 2D)                                                             \n",
            "                                                                 \n",
            " flatten_1 (Flatten)         (None, 11520)             0         \n",
            "                                                                 \n",
            " dense_2 (Dense)             (None, 128)               1474688   \n",
            "                                                                 \n",
            " dense_3 (Dense)             (None, 10)                1290      \n",
            "                                                                 \n",
            "=================================================================\n",
            "Total params: 1,491,338\n",
            "Trainable params: 1,491,338\n",
            "Non-trainable params: 0\n",
            "_________________________________________________________________\n"
          ]
        }
      ]
    },
    {
      "cell_type": "code",
      "source": [
        "model.compile(optimizer='adam',\n",
        "              loss= keras.losses.categorical_crossentropy,\n",
        "              metrics = ['accuracy']\n",
        "              )\n",
        "\n",
        "model.fit(x_train,y_train,\n",
        "          batch_size=batch_size,\n",
        "          epochs=epochs,\n",
        "          verbose=1,\n",
        "          validation_data=(x_test, y_test))"
      ],
      "metadata": {
        "colab": {
          "base_uri": "https://localhost:8080/"
        },
        "id": "sVy8FKVm7KDc",
        "outputId": "93aa8248-4f7c-4084-9b7c-ae5283f25801"
      },
      "execution_count": 24,
      "outputs": [
        {
          "output_type": "stream",
          "name": "stdout",
          "text": [
            "Epoch 1/12\n",
            "469/469 [==============================] - 5s 11ms/step - loss: 0.2345 - accuracy: 0.9351 - val_loss: 0.0863 - val_accuracy: 0.9740\n",
            "Epoch 2/12\n",
            "469/469 [==============================] - 5s 10ms/step - loss: 0.0646 - accuracy: 0.9809 - val_loss: 0.0491 - val_accuracy: 0.9850\n",
            "Epoch 3/12\n",
            "469/469 [==============================] - 5s 10ms/step - loss: 0.0419 - accuracy: 0.9873 - val_loss: 0.0397 - val_accuracy: 0.9861\n",
            "Epoch 4/12\n",
            "469/469 [==============================] - 5s 10ms/step - loss: 0.0299 - accuracy: 0.9906 - val_loss: 0.0340 - val_accuracy: 0.9888\n",
            "Epoch 5/12\n",
            "469/469 [==============================] - 5s 10ms/step - loss: 0.0216 - accuracy: 0.9932 - val_loss: 0.0508 - val_accuracy: 0.9841\n",
            "Epoch 6/12\n",
            "469/469 [==============================] - 5s 10ms/step - loss: 0.0162 - accuracy: 0.9948 - val_loss: 0.0332 - val_accuracy: 0.9888\n",
            "Epoch 7/12\n",
            "469/469 [==============================] - 5s 10ms/step - loss: 0.0137 - accuracy: 0.9952 - val_loss: 0.0384 - val_accuracy: 0.9888\n",
            "Epoch 8/12\n",
            "469/469 [==============================] - 5s 10ms/step - loss: 0.0107 - accuracy: 0.9962 - val_loss: 0.0449 - val_accuracy: 0.9876\n",
            "Epoch 9/12\n",
            "469/469 [==============================] - 5s 10ms/step - loss: 0.0113 - accuracy: 0.9962 - val_loss: 0.0487 - val_accuracy: 0.9858\n",
            "Epoch 10/12\n",
            "469/469 [==============================] - 5s 10ms/step - loss: 0.0081 - accuracy: 0.9972 - val_loss: 0.0446 - val_accuracy: 0.9874\n",
            "Epoch 11/12\n",
            "469/469 [==============================] - 5s 11ms/step - loss: 0.0061 - accuracy: 0.9979 - val_loss: 0.0402 - val_accuracy: 0.9886\n",
            "Epoch 12/12\n",
            "469/469 [==============================] - 5s 10ms/step - loss: 0.0050 - accuracy: 0.9985 - val_loss: 0.0438 - val_accuracy: 0.9881\n"
          ]
        },
        {
          "output_type": "execute_result",
          "data": {
            "text/plain": [
              "<keras.callbacks.History at 0x7f0012147490>"
            ]
          },
          "metadata": {},
          "execution_count": 24
        }
      ]
    },
    {
      "cell_type": "code",
      "source": [
        "score= model.evaluate(x_test, y_test, verbose = 0)\n",
        "print('Test losse',score[0])\n",
        "print('Test accuracy',score[1])"
      ],
      "metadata": {
        "colab": {
          "base_uri": "https://localhost:8080/"
        },
        "id": "Zyc-ysH7CVME",
        "outputId": "2b24102c-7150-4183-a7a2-a0d24fe3e737"
      },
      "execution_count": 25,
      "outputs": [
        {
          "output_type": "stream",
          "name": "stdout",
          "text": [
            "Test losse 0.04380854591727257\n",
            "Test accuracy 0.988099992275238\n"
          ]
        }
      ]
    },
    {
      "cell_type": "code",
      "source": [
        "#saving model to reuse its weights\n",
        "model.save(\"model.h5\")\n",
        "print('saved')"
      ],
      "metadata": {
        "colab": {
          "base_uri": "https://localhost:8080/"
        },
        "id": "lqLGtK1uCqcE",
        "outputId": "d2c74659-5810-45c4-d652-a065e39c915b"
      },
      "execution_count": 26,
      "outputs": [
        {
          "output_type": "stream",
          "name": "stdout",
          "text": [
            "saved\n"
          ]
        }
      ]
    },
    {
      "cell_type": "code",
      "source": [
        "!pip install keras"
      ],
      "metadata": {
        "colab": {
          "base_uri": "https://localhost:8080/"
        },
        "id": "UmNJY5IbHszH",
        "outputId": "7d95c7af-b633-4491-fd41-87baf189b4d1"
      },
      "execution_count": 33,
      "outputs": [
        {
          "output_type": "stream",
          "name": "stdout",
          "text": [
            "Looking in indexes: https://pypi.org/simple, https://us-python.pkg.dev/colab-wheels/public/simple/\n",
            "Requirement already satisfied: keras in /usr/local/lib/python3.8/dist-packages (2.9.0)\n"
          ]
        }
      ]
    },
    {
      "cell_type": "code",
      "source": [
        "!pip install matplotlib-venn\n",
        "!apt-get -qq install -y libfluidsynth1\n",
        "!apt-get -qq install -y libarchive-dev && pip install -U libarchive\n",
        "import libarchive\n",
        "!apt-get -qq install -y graphviz && pip install pydot\n",
        "import pydot\n",
        "!pip install cartopy\n",
        "import cartopy"
      ],
      "metadata": {
        "colab": {
          "base_uri": "https://localhost:8080/"
        },
        "id": "QsKul-e7NaXY",
        "outputId": "474b843e-e805-4217-8c02-4b91cb02c119"
      },
      "execution_count": 54,
      "outputs": [
        {
          "output_type": "stream",
          "name": "stdout",
          "text": [
            "Looking in indexes: https://pypi.org/simple, https://us-python.pkg.dev/colab-wheels/public/simple/\n",
            "Requirement already satisfied: matplotlib-venn in /usr/local/lib/python3.8/dist-packages (0.11.7)\n",
            "Requirement already satisfied: matplotlib in /usr/local/lib/python3.8/dist-packages (from matplotlib-venn) (3.2.2)\n",
            "Requirement already satisfied: numpy in /usr/local/lib/python3.8/dist-packages (from matplotlib-venn) (1.21.6)\n",
            "Requirement already satisfied: scipy in /usr/local/lib/python3.8/dist-packages (from matplotlib-venn) (1.7.3)\n",
            "Requirement already satisfied: cycler>=0.10 in /usr/local/lib/python3.8/dist-packages (from matplotlib->matplotlib-venn) (0.11.0)\n",
            "Requirement already satisfied: python-dateutil>=2.1 in /usr/local/lib/python3.8/dist-packages (from matplotlib->matplotlib-venn) (2.8.2)\n",
            "Requirement already satisfied: kiwisolver>=1.0.1 in /usr/local/lib/python3.8/dist-packages (from matplotlib->matplotlib-venn) (1.4.4)\n",
            "Requirement already satisfied: pyparsing!=2.0.4,!=2.1.2,!=2.1.6,>=2.0.1 in /usr/local/lib/python3.8/dist-packages (from matplotlib->matplotlib-venn) (3.0.9)\n",
            "Requirement already satisfied: six>=1.5 in /usr/local/lib/python3.8/dist-packages (from python-dateutil>=2.1->matplotlib->matplotlib-venn) (1.15.0)\n",
            "E: Package 'libfluidsynth1' has no installation candidate\n",
            "Selecting previously unselected package libarchive-dev:amd64.\n",
            "(Reading database ... 129502 files and directories currently installed.)\n",
            "Preparing to unpack .../libarchive-dev_3.4.0-2ubuntu1.2_amd64.deb ...\n",
            "Unpacking libarchive-dev:amd64 (3.4.0-2ubuntu1.2) ...\n",
            "Setting up libarchive-dev:amd64 (3.4.0-2ubuntu1.2) ...\n",
            "Processing triggers for man-db (2.9.1-1) ...\n",
            "Looking in indexes: https://pypi.org/simple, https://us-python.pkg.dev/colab-wheels/public/simple/\n",
            "Collecting libarchive\n",
            "  Downloading libarchive-0.4.7.tar.gz (23 kB)\n",
            "  Preparing metadata (setup.py) ... \u001b[?25l\u001b[?25hdone\n",
            "Collecting nose\n",
            "  Downloading nose-1.3.7-py3-none-any.whl (154 kB)\n",
            "\u001b[2K     \u001b[90m━━━━━━━━━━━━━━━━━━━━━━━━━━━━━━━━━━━━━━\u001b[0m \u001b[32m154.7/154.7 KB\u001b[0m \u001b[31m17.4 MB/s\u001b[0m eta \u001b[36m0:00:00\u001b[0m\n",
            "\u001b[?25hBuilding wheels for collected packages: libarchive\n",
            "  Building wheel for libarchive (setup.py) ... \u001b[?25l\u001b[?25hdone\n",
            "  Created wheel for libarchive: filename=libarchive-0.4.7-py3-none-any.whl size=31648 sha256=813f0587a9f83bbd05ac9f91dcaaefb65300020838985bb51a958d63ac0eb3e2\n",
            "  Stored in directory: /root/.cache/pip/wheels/e2/96/fb/b17d6b9adb7c223428b4c77d9e8bc29f40a51d625389b73461\n",
            "Successfully built libarchive\n",
            "Installing collected packages: nose, libarchive\n",
            "Successfully installed libarchive-0.4.7 nose-1.3.7\n",
            "Looking in indexes: https://pypi.org/simple, https://us-python.pkg.dev/colab-wheels/public/simple/\n",
            "Requirement already satisfied: pydot in /usr/local/lib/python3.8/dist-packages (1.3.0)\n",
            "Requirement already satisfied: pyparsing>=2.1.4 in /usr/local/lib/python3.8/dist-packages (from pydot) (3.0.9)\n",
            "Looking in indexes: https://pypi.org/simple, https://us-python.pkg.dev/colab-wheels/public/simple/\n",
            "Collecting cartopy\n",
            "  Downloading Cartopy-0.21.1.tar.gz (10.9 MB)\n",
            "\u001b[2K     \u001b[90m━━━━━━━━━━━━━━━━━━━━━━━━━━━━━━━━━━━━━━━━\u001b[0m \u001b[32m10.9/10.9 MB\u001b[0m \u001b[31m88.1 MB/s\u001b[0m eta \u001b[36m0:00:00\u001b[0m\n",
            "\u001b[?25h  Installing build dependencies ... \u001b[?25l\u001b[?25hdone\n",
            "  Getting requirements to build wheel ... \u001b[?25l\u001b[?25hdone\n",
            "  Preparing metadata (pyproject.toml) ... \u001b[?25l\u001b[?25hdone\n",
            "Collecting pyshp>=2.1\n",
            "  Downloading pyshp-2.3.1-py2.py3-none-any.whl (46 kB)\n",
            "\u001b[2K     \u001b[90m━━━━━━━━━━━━━━━━━━━━━━━━━━━━━━━━━━━━━━━━\u001b[0m \u001b[32m46.5/46.5 KB\u001b[0m \u001b[31m4.8 MB/s\u001b[0m eta \u001b[36m0:00:00\u001b[0m\n",
            "\u001b[?25hRequirement already satisfied: matplotlib>=3.1 in /usr/local/lib/python3.8/dist-packages (from cartopy) (3.2.2)\n",
            "Requirement already satisfied: numpy>=1.18 in /usr/local/lib/python3.8/dist-packages (from cartopy) (1.21.6)\n",
            "Collecting pyproj>=3.0.0\n",
            "  Downloading pyproj-3.4.1-cp38-cp38-manylinux_2_17_x86_64.manylinux2014_x86_64.whl (7.8 MB)\n",
            "\u001b[2K     \u001b[90m━━━━━━━━━━━━━━━━━━━━━━━━━━━━━━━━━━━━━━━━\u001b[0m \u001b[32m7.8/7.8 MB\u001b[0m \u001b[31m46.4 MB/s\u001b[0m eta \u001b[36m0:00:00\u001b[0m\n",
            "\u001b[?25hRequirement already satisfied: shapely>=1.6.4 in /usr/local/lib/python3.8/dist-packages (from cartopy) (2.0.0)\n",
            "Requirement already satisfied: cycler>=0.10 in /usr/local/lib/python3.8/dist-packages (from matplotlib>=3.1->cartopy) (0.11.0)\n",
            "Requirement already satisfied: python-dateutil>=2.1 in /usr/local/lib/python3.8/dist-packages (from matplotlib>=3.1->cartopy) (2.8.2)\n",
            "Requirement already satisfied: kiwisolver>=1.0.1 in /usr/local/lib/python3.8/dist-packages (from matplotlib>=3.1->cartopy) (1.4.4)\n",
            "Requirement already satisfied: pyparsing!=2.0.4,!=2.1.2,!=2.1.6,>=2.0.1 in /usr/local/lib/python3.8/dist-packages (from matplotlib>=3.1->cartopy) (3.0.9)\n",
            "Requirement already satisfied: certifi in /usr/local/lib/python3.8/dist-packages (from pyproj>=3.0.0->cartopy) (2022.12.7)\n",
            "Requirement already satisfied: six>=1.5 in /usr/local/lib/python3.8/dist-packages (from python-dateutil>=2.1->matplotlib>=3.1->cartopy) (1.15.0)\n",
            "Building wheels for collected packages: cartopy\n",
            "  Building wheel for cartopy (pyproject.toml) ... \u001b[?25l\u001b[?25hdone\n",
            "  Created wheel for cartopy: filename=Cartopy-0.21.1-cp38-cp38-linux_x86_64.whl size=11127978 sha256=25a41b6ece77819ded59c50478d863bab3c93240c2e985e3fb2465e8aaf1db00\n",
            "  Stored in directory: /root/.cache/pip/wheels/7c/ff/6f/09e4aa53f4e67d6498ef1d33dd4ea9c8c165817b9ddcc31d28\n",
            "Successfully built cartopy\n",
            "Installing collected packages: pyshp, pyproj, cartopy\n",
            "Successfully installed cartopy-0.21.1 pyproj-3.4.1 pyshp-2.3.1\n"
          ]
        }
      ]
    },
    {
      "cell_type": "code",
      "source": [
        "import tensorflow\n",
        "#restoring model for prediction \n",
        "from keras_preprocessing.image import load_img\n",
        "from keras_preprocessing.image import img_to_array\n",
        "from keras.models import load_model"
      ],
      "metadata": {
        "id": "KVSDwX5MDPqw"
      },
      "execution_count": 62,
      "outputs": []
    },
    {
      "cell_type": "code",
      "source": [
        "# load and prepare the image\n",
        "def load_image(filename):\n",
        "    # load the image\n",
        "    img = load_img(filename, color_mode=\"grayscale\", target_size=(28,28))\n",
        "    # convert to array\n",
        "    img = img_to_array(img)\n",
        "    # reshape into a single sample with 1 channel\n",
        "    img = img.reshape(1, 28, 28, 1)\n",
        "    # prepare pixel data\n",
        "    img = img.astype('float32')\n",
        "    img = img / 255.0\n",
        "    return img"
      ],
      "metadata": {
        "id": "cNwH8KZTOKYB"
      },
      "execution_count": 63,
      "outputs": []
    },
    {
      "cell_type": "code",
      "source": [
        "# load an image and predict the class\n",
        "def run_example():\n",
        "    # load the image\n",
        "    img = load_image('/content/sample_image.png')\n",
        "    # load model\n",
        "    model = load_model('/content/model.h5')\n",
        "    # predict the class\n",
        "    digit = model.predict(img)\n",
        "    print(digit[0])\n",
        "\n",
        "\n",
        "# entry point, run the example\n",
        "run_example()"
      ],
      "metadata": {
        "id": "kBfixCv4OLQU"
      },
      "execution_count": null,
      "outputs": []
    }
  ]
}