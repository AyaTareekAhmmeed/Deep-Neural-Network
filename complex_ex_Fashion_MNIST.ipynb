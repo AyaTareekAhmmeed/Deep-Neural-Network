{
  "nbformat": 4,
  "nbformat_minor": 0,
  "metadata": {
    "colab": {
      "provenance": [],
      "authorship_tag": "ABX9TyPlKcONrUNLXQavpidJ+q3Q",
      "include_colab_link": true
    },
    "kernelspec": {
      "name": "python3",
      "display_name": "Python 3"
    },
    "language_info": {
      "name": "python"
    },
    "accelerator": "GPU",
    "gpuClass": "standard"
  },
  "cells": [
    {
      "cell_type": "markdown",
      "metadata": {
        "id": "view-in-github",
        "colab_type": "text"
      },
      "source": [
        "<a href=\"https://colab.research.google.com/github/AyaTareekAhmmeed/Deep-Neural-Network/blob/main/complex_ex_Fashion_MNIST.ipynb\" target=\"_parent\"><img src=\"https://colab.research.google.com/assets/colab-badge.svg\" alt=\"Open In Colab\"/></a>"
      ]
    },
    {
      "cell_type": "code",
      "execution_count": 17,
      "metadata": {
        "id": "UOuQraRIpbha"
      },
      "outputs": [],
      "source": [
        "from __future__ import print_function\n",
        "import keras\n",
        "from keras.datasets import mnist\n",
        "from keras.models import Sequential\n",
        "from keras.layers import Dense, Dropout, Flatten\n",
        "from keras.layers import Conv2D , MaxPool2D, Convolution2D #for CNN\n",
        "from keras import backend as k"
      ]
    },
    {
      "cell_type": "code",
      "source": [
        "batch_size = 128 #split training data into n batches for higher performance \n",
        "num_classes = 10 #num of classes on dataset 'based on dataset'\n",
        "epochs = 12 #one forward%backward pass of all training examples"
      ],
      "metadata": {
        "id": "xuYuPORMrv37"
      },
      "execution_count": 18,
      "outputs": []
    },
    {
      "cell_type": "code",
      "source": [
        "img_rows, img_cols = 28,28 #depend on size of image in your dataset\n",
        "(x_train,y_train),(x_test,y_test) = mnist.load_data()"
      ],
      "metadata": {
        "id": "pKTboQtKs7lE"
      },
      "execution_count": 19,
      "outputs": []
    },
    {
      "cell_type": "code",
      "source": [
        "if k.image_data_format()=='channels_first':\n",
        "  x_train = x_train.reshape(x_train.shape[0],1,img_rows,img_cols) #1 mean chanel 1 'grey scale'\n",
        "  x_test = x_test.reshape(x_test.shape[0],1,img_rows,img_cols)\n",
        "  input_shape = (1,img_rows,img_cols)\n",
        "\n",
        "else:\n",
        "  x_train = x_train.reshape(x_train.shape[0],1,img_rows,img_cols)\n",
        "  x_test = x_test.reshape(x_test.shape[0],1,img_rows,img_cols)\n",
        "  input_shape = (1,img_rows,img_cols)\n",
        "\n",
        "#normalization\n",
        "x_train = x_train/255.0\n",
        "x_test = x_test/255.0\n",
        "print('x_train shape',x_train.shape)\n",
        "print('x_test shape',x_test.shape)"
      ],
      "metadata": {
        "colab": {
          "base_uri": "https://localhost:8080/"
        },
        "id": "EU-13zzktSAC",
        "outputId": "8f68509f-6fe9-4652-eeae-13f7c7a1e0e7"
      },
      "execution_count": 20,
      "outputs": [
        {
          "output_type": "stream",
          "name": "stdout",
          "text": [
            "x_train shape (60000, 1, 28, 28)\n",
            "x_test shape (10000, 1, 28, 28)\n"
          ]
        }
      ]
    },
    {
      "cell_type": "code",
      "source": [
        "#convert class vectors to binary class matrices\n",
        "#in classification it is better to convert to binary cuz it is more organized \n",
        "y_train = keras.utils.to_categorical(y_train,num_classes)\n",
        "y_test = keras.utils.to_categorical(y_test,num_classes)"
      ],
      "metadata": {
        "id": "JIZprhA8v1MQ"
      },
      "execution_count": 21,
      "outputs": []
    },
    {
      "cell_type": "code",
      "source": [
        "model = Sequential()\n",
        "model.add(Conv2D(32, kernel_size=(3, 3),activation='relu', input_shape=input_shape, data_format='channels_first')) #32 num of layers &data_format='channels_first' to avoid ValueError: One of the dimensions in the output is <= 0\n",
        "model.add(Conv2D(64, (3,3),activation='relu'))\n",
        "model.add(MaxPool2D(pool_size=(2,2))) #MaxPool only take poolsize()\n",
        "#must use pooling after convolution to take maximun pixels \n",
        "\n",
        "model.add(Flatten()) #use flatten to avoid convolution errors in dimensions\n",
        "#Dense is connected neuron layer\n",
        "model.add(Dense(128, activation='relu')) #128 is num of neurons \n",
        "\n",
        "#in output layer num of neuron must be equal = num of output classes \n",
        "model.add(Dense(num_classes, activation='softmax'))  #activation='softmax' for output layer to make binary classification \n",
        "model.summary()"
      ],
      "metadata": {
        "colab": {
          "base_uri": "https://localhost:8080/"
        },
        "id": "wM6LDY2avYc6",
        "outputId": "1bb29b73-b0a3-4475-ef8b-23843d583183"
      },
      "execution_count": 22,
      "outputs": [
        {
          "output_type": "stream",
          "name": "stdout",
          "text": [
            "Model: \"sequential_6\"\n",
            "_________________________________________________________________\n",
            " Layer (type)                Output Shape              Param #   \n",
            "=================================================================\n",
            " conv2d_4 (Conv2D)           (None, 32, 26, 26)        320       \n",
            "                                                                 \n",
            " conv2d_5 (Conv2D)           (None, 30, 24, 64)        15040     \n",
            "                                                                 \n",
            " max_pooling2d_1 (MaxPooling  (None, 15, 12, 64)       0         \n",
            " 2D)                                                             \n",
            "                                                                 \n",
            " flatten_1 (Flatten)         (None, 11520)             0         \n",
            "                                                                 \n",
            " dense_2 (Dense)             (None, 128)               1474688   \n",
            "                                                                 \n",
            " dense_3 (Dense)             (None, 10)                1290      \n",
            "                                                                 \n",
            "=================================================================\n",
            "Total params: 1,491,338\n",
            "Trainable params: 1,491,338\n",
            "Non-trainable params: 0\n",
            "_________________________________________________________________\n"
          ]
        }
      ]
    },
    {
      "cell_type": "code",
      "source": [
        "model.compile(optimizer='adam',\n",
        "              loss= keras.losses.categorical_crossentropy,\n",
        "              metrics = ['accuracy']\n",
        "              )\n",
        "\n",
        "model.fit(x_train,y_train,\n",
        "          batch_size=batch_size,\n",
        "          epochs=epochs,\n",
        "          verbose=1,\n",
        "          validation_data=(x_test, y_test))"
      ],
      "metadata": {
        "colab": {
          "base_uri": "https://localhost:8080/"
        },
        "id": "sVy8FKVm7KDc",
        "outputId": "93aa8248-4f7c-4084-9b7c-ae5283f25801"
      },
      "execution_count": 24,
      "outputs": [
        {
          "output_type": "stream",
          "name": "stdout",
          "text": [
            "Epoch 1/12\n",
            "469/469 [==============================] - 5s 11ms/step - loss: 0.2345 - accuracy: 0.9351 - val_loss: 0.0863 - val_accuracy: 0.9740\n",
            "Epoch 2/12\n",
            "469/469 [==============================] - 5s 10ms/step - loss: 0.0646 - accuracy: 0.9809 - val_loss: 0.0491 - val_accuracy: 0.9850\n",
            "Epoch 3/12\n",
            "469/469 [==============================] - 5s 10ms/step - loss: 0.0419 - accuracy: 0.9873 - val_loss: 0.0397 - val_accuracy: 0.9861\n",
            "Epoch 4/12\n",
            "469/469 [==============================] - 5s 10ms/step - loss: 0.0299 - accuracy: 0.9906 - val_loss: 0.0340 - val_accuracy: 0.9888\n",
            "Epoch 5/12\n",
            "469/469 [==============================] - 5s 10ms/step - loss: 0.0216 - accuracy: 0.9932 - val_loss: 0.0508 - val_accuracy: 0.9841\n",
            "Epoch 6/12\n",
            "469/469 [==============================] - 5s 10ms/step - loss: 0.0162 - accuracy: 0.9948 - val_loss: 0.0332 - val_accuracy: 0.9888\n",
            "Epoch 7/12\n",
            "469/469 [==============================] - 5s 10ms/step - loss: 0.0137 - accuracy: 0.9952 - val_loss: 0.0384 - val_accuracy: 0.9888\n",
            "Epoch 8/12\n",
            "469/469 [==============================] - 5s 10ms/step - loss: 0.0107 - accuracy: 0.9962 - val_loss: 0.0449 - val_accuracy: 0.9876\n",
            "Epoch 9/12\n",
            "469/469 [==============================] - 5s 10ms/step - loss: 0.0113 - accuracy: 0.9962 - val_loss: 0.0487 - val_accuracy: 0.9858\n",
            "Epoch 10/12\n",
            "469/469 [==============================] - 5s 10ms/step - loss: 0.0081 - accuracy: 0.9972 - val_loss: 0.0446 - val_accuracy: 0.9874\n",
            "Epoch 11/12\n",
            "469/469 [==============================] - 5s 11ms/step - loss: 0.0061 - accuracy: 0.9979 - val_loss: 0.0402 - val_accuracy: 0.9886\n",
            "Epoch 12/12\n",
            "469/469 [==============================] - 5s 10ms/step - loss: 0.0050 - accuracy: 0.9985 - val_loss: 0.0438 - val_accuracy: 0.9881\n"
          ]
        },
        {
          "output_type": "execute_result",
          "data": {
            "text/plain": [
              "<keras.callbacks.History at 0x7f0012147490>"
            ]
          },
          "metadata": {},
          "execution_count": 24
        }
      ]
    },
    {
      "cell_type": "code",
      "source": [
        "score= model.evaluate(x_test, y_test, verbose = 0)\n",
        "print('Test losse',score[0])\n",
        "print('Test accuracy',score[1])"
      ],
      "metadata": {
        "colab": {
          "base_uri": "https://localhost:8080/"
        },
        "id": "Zyc-ysH7CVME",
        "outputId": "2b24102c-7150-4183-a7a2-a0d24fe3e737"
      },
      "execution_count": 25,
      "outputs": [
        {
          "output_type": "stream",
          "name": "stdout",
          "text": [
            "Test losse 0.04380854591727257\n",
            "Test accuracy 0.988099992275238\n"
          ]
        }
      ]
    },
    {
      "cell_type": "code",
      "source": [
        "#saving model to reuse its weights\n",
        "model.save(\"model.h5\")\n",
        "print('saved')"
      ],
      "metadata": {
        "colab": {
          "base_uri": "https://localhost:8080/"
        },
        "id": "lqLGtK1uCqcE",
        "outputId": "d2c74659-5810-45c4-d652-a065e39c915b"
      },
      "execution_count": 26,
      "outputs": [
        {
          "output_type": "stream",
          "name": "stdout",
          "text": [
            "saved\n"
          ]
        }
      ]
    },
    {
      "cell_type": "code",
      "source": [
        "from keras.optimizers.optimizer_v2.gradient_descent import SGD\n",
        "model = Sequential()\n",
        "model.add(Conv2D(32, kernel_size=(3, 3),activation='relu', input_shape=input_shape, data_format='channels_first')) #32 num of layers &data_format='channels_first' to avoid ValueError: One of the dimensions in the output is <= 0\n",
        "model.add(Conv2D(64, (3,3),activation='relu'))\n",
        "model.add(MaxPool2D(pool_size=(2,2))) #MaxPool only take poolsize()\n",
        "#must use pooling after convolution to take maximun pixels \n",
        "\n",
        "model.add(Flatten()) #use flatten to avoid convolution errors in dimensions\n",
        "#Dense is connected neuron layer\n",
        "model.add(Dense(100, activation='relu')) #128 is num of neurons \n",
        "\n",
        "#in output layer num of neuron must be equal = num of output classes \n",
        "model.add(Dense(num_classes, activation='softmax'))\n",
        "\n",
        "\n",
        "opt = SGD(lr=0.01, momentum=0.9)\n",
        "model.compile(optimizer=opt,\n",
        "              loss= keras.losses.categorical_crossentropy,\n",
        "              metrics = ['accuracy']\n",
        "              )\n",
        "\n",
        "model.fit(x_train,y_train,\n",
        "          batch_size=batch_size,\n",
        "          epochs=epochs,\n",
        "          verbose=1,\n",
        "          validation_data=(x_test, y_test))\n",
        "\n",
        "\n",
        "score= model.evaluate(x_test, y_test, verbose = 0)\n",
        "print('Test losse',score[0])\n",
        "print('Test accuracy',score[1])\n",
        "\n"
      ],
      "metadata": {
        "colab": {
          "base_uri": "https://localhost:8080/"
        },
        "id": "c18l0j-PTgOc",
        "outputId": "5fcb7546-cdb6-4c47-a482-e367fa28a636"
      },
      "execution_count": 70,
      "outputs": [
        {
          "output_type": "stream",
          "name": "stderr",
          "text": [
            "/usr/local/lib/python3.8/dist-packages/keras/optimizers/optimizer_v2/gradient_descent.py:108: UserWarning: The `lr` argument is deprecated, use `learning_rate` instead.\n",
            "  super(SGD, self).__init__(name, **kwargs)\n"
          ]
        },
        {
          "output_type": "stream",
          "name": "stdout",
          "text": [
            "Epoch 1/12\n",
            "469/469 [==============================] - 5s 11ms/step - loss: 0.3509 - accuracy: 0.8980 - val_loss: 0.1232 - val_accuracy: 0.9628\n",
            "Epoch 2/12\n",
            "469/469 [==============================] - 4s 10ms/step - loss: 0.0991 - accuracy: 0.9701 - val_loss: 0.0681 - val_accuracy: 0.9798\n",
            "Epoch 3/12\n",
            "469/469 [==============================] - 4s 9ms/step - loss: 0.0676 - accuracy: 0.9794 - val_loss: 0.0519 - val_accuracy: 0.9831\n",
            "Epoch 4/12\n",
            "469/469 [==============================] - 5s 10ms/step - loss: 0.0509 - accuracy: 0.9845 - val_loss: 0.0526 - val_accuracy: 0.9827\n",
            "Epoch 5/12\n",
            "469/469 [==============================] - 5s 10ms/step - loss: 0.0401 - accuracy: 0.9876 - val_loss: 0.0454 - val_accuracy: 0.9855\n",
            "Epoch 6/12\n",
            "469/469 [==============================] - 5s 10ms/step - loss: 0.0334 - accuracy: 0.9897 - val_loss: 0.0416 - val_accuracy: 0.9860\n",
            "Epoch 7/12\n",
            "469/469 [==============================] - 5s 10ms/step - loss: 0.0288 - accuracy: 0.9914 - val_loss: 0.0332 - val_accuracy: 0.9886\n",
            "Epoch 8/12\n",
            "469/469 [==============================] - 5s 10ms/step - loss: 0.0242 - accuracy: 0.9921 - val_loss: 0.0372 - val_accuracy: 0.9874\n",
            "Epoch 9/12\n",
            "469/469 [==============================] - 4s 9ms/step - loss: 0.0198 - accuracy: 0.9942 - val_loss: 0.0465 - val_accuracy: 0.9841\n",
            "Epoch 10/12\n",
            "469/469 [==============================] - 5s 10ms/step - loss: 0.0169 - accuracy: 0.9952 - val_loss: 0.0431 - val_accuracy: 0.9857\n",
            "Epoch 11/12\n",
            "469/469 [==============================] - 5s 10ms/step - loss: 0.0143 - accuracy: 0.9958 - val_loss: 0.0380 - val_accuracy: 0.9876\n",
            "Epoch 12/12\n",
            "469/469 [==============================] - 4s 10ms/step - loss: 0.0124 - accuracy: 0.9963 - val_loss: 0.0376 - val_accuracy: 0.9871\n",
            "Test losse 0.03755966201424599\n",
            "Test accuracy 0.9871000051498413\n"
          ]
        }
      ]
    },
    {
      "cell_type": "code",
      "source": [
        "#saving model to reuse its weights\n",
        "model.save(\"final_model.h5\")\n",
        "print('saved')"
      ],
      "metadata": {
        "colab": {
          "base_uri": "https://localhost:8080/"
        },
        "id": "NI0hswBHU_Hl",
        "outputId": "0f9b9a0d-55c6-4987-c283-76f15f83eb8b"
      },
      "execution_count": 71,
      "outputs": [
        {
          "output_type": "stream",
          "name": "stdout",
          "text": [
            "saved\n"
          ]
        }
      ]
    },
    {
      "cell_type": "code",
      "source": [
        "!pip install keras"
      ],
      "metadata": {
        "colab": {
          "base_uri": "https://localhost:8080/"
        },
        "id": "UmNJY5IbHszH",
        "outputId": "7d95c7af-b633-4491-fd41-87baf189b4d1"
      },
      "execution_count": 33,
      "outputs": [
        {
          "output_type": "stream",
          "name": "stdout",
          "text": [
            "Looking in indexes: https://pypi.org/simple, https://us-python.pkg.dev/colab-wheels/public/simple/\n",
            "Requirement already satisfied: keras in /usr/local/lib/python3.8/dist-packages (2.9.0)\n"
          ]
        }
      ]
    },
    {
      "cell_type": "code",
      "source": [
        "import tensorflow\n",
        "#restoring model for prediction \n",
        "from keras_preprocessing.image import load_img\n",
        "from keras_preprocessing.image import img_to_array\n",
        "from keras.models import load_model"
      ],
      "metadata": {
        "id": "KVSDwX5MDPqw"
      },
      "execution_count": 72,
      "outputs": []
    },
    {
      "cell_type": "code",
      "source": [
        "# load and prepare the image\n",
        "def load_image(filename):\n",
        "    # load the image\n",
        "    img = load_img(filename, color_mode=\"grayscale\", target_size=(28,28))\n",
        "    # convert to array\n",
        "    img = img_to_array(img)\n",
        "    # reshape into a single sample with 1 channel\n",
        "    img = img.reshape(1, 28, 28, 1)\n",
        "    # prepare pixel data\n",
        "    img = img.astype('float32')\n",
        "    img = img / 255.0\n",
        "    return img"
      ],
      "metadata": {
        "id": "cNwH8KZTOKYB"
      },
      "execution_count": 73,
      "outputs": []
    },
    {
      "cell_type": "code",
      "source": [
        "# load an image and predict the class\n",
        "def run_example():\n",
        "    # load the image\n",
        "    img = load_image('/content/sample_image.png')\n",
        "    # load model\n",
        "    model = load_model('/content/final_model.h5')\n",
        "    # predict the class\n",
        "    digit = model.predict(img)\n",
        "    print(digit[0])\n",
        "\n",
        "\n",
        "# entry point, run the example\n",
        "run_example()"
      ],
      "metadata": {
        "id": "kBfixCv4OLQU"
      },
      "execution_count": null,
      "outputs": []
    }
  ]
}